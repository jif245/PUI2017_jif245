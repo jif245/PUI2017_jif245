{
 "cells": [
  {
   "cell_type": "markdown",
   "metadata": {},
   "source": [
    "#### Problem Set 1 - due 10/10 - Julián Ferreiro (NetID:jif245)\n",
    "\n",
    "#### Problem Identification\n",
    "The problem that guided the following analysis was if the presence of homeless people correlate with instances of crimes in the city of New York.\n",
    "\n",
    "Homeless people have been asociated with increased chance of criminal activity (Greenberg 2008, Cronley 2015) in the literature, but also with greater exposure to victimization (Tyler 2010). \n",
    "\n",
    "311 data contains two type of complaints referred to homelesness, i.e. \"Homeless Person Assistance\" and \"Homeless Encampment\".\n",
    "For the purpose of this assignment, \"Homeless Encampment\" was the one taken into account. It was considered to be a better indication of a more permanent residence of a homeless person.\n",
    "\n",
    "This data was compared with 911 felonies, misdemeanor and violations complaints calls and 911 seven major crimes statistics for 2016. \n",
    "\n",
    "Due to the technical limitations of the signer of this document, data was only aggregated by precinct and by date of the year for comparison. \n",
    "\n",
    "Note: All of the analysis where performed using jupyter notebooks 5.0.0 by virtue of Anaconda Navigator Version 1.6.2.\n",
    "All of the datasets where downloaded and analysed locally. "
   ]
  },
  {
   "cell_type": "code",
   "execution_count": 345,
   "metadata": {},
   "outputs": [
    {
     "name": "stdout",
     "output_type": "stream",
     "text": [
      "Populating the interactive namespace from numpy and matplotlib\n"
     ]
    }
   ],
   "source": [
    "#The following packages are used in the analysis\n",
    "import pandas as pd\n",
    "import numpy as np\n",
    "import matplotlib.pyplot as plt\n",
    "import pylab as pl\n",
    "import statsmodels.formula.api as smf\n",
    "from datetime import datetime\n",
    "\n",
    "%pylab inline"
   ]
  },
  {
   "cell_type": "markdown",
   "metadata": {},
   "source": [
    "#### Homelessness by Borough\n",
    "For the first part of the analysis of the data, the amount of homeless encampments by borough was analysed"
   ]
  },
  {
   "cell_type": "code",
   "execution_count": 457,
   "metadata": {
    "collapsed": true,
    "scrolled": true
   },
   "outputs": [],
   "source": [
    "#The 311 Complaint data for 2016\n",
    "df_311_full=pd.read_csv(\"311_Service_Requests_from_2010_to_Present.csv\")"
   ]
  },
  {
   "cell_type": "code",
   "execution_count": 493,
   "metadata": {},
   "outputs": [
    {
     "data": {
      "text/html": [
       "<div>\n",
       "<style>\n",
       "    .dataframe thead tr:only-child th {\n",
       "        text-align: right;\n",
       "    }\n",
       "\n",
       "    .dataframe thead th {\n",
       "        text-align: left;\n",
       "    }\n",
       "\n",
       "    .dataframe tbody tr th {\n",
       "        vertical-align: top;\n",
       "    }\n",
       "</style>\n",
       "<table border=\"1\" class=\"dataframe\">\n",
       "  <thead>\n",
       "    <tr style=\"text-align: right;\">\n",
       "      <th></th>\n",
       "      <th>BORO_NM</th>\n",
       "      <th>complaint_c</th>\n",
       "    </tr>\n",
       "  </thead>\n",
       "  <tbody>\n",
       "    <tr>\n",
       "      <th>0</th>\n",
       "      <td>BROOKLYN</td>\n",
       "      <td>701245</td>\n",
       "    </tr>\n",
       "    <tr>\n",
       "      <th>1</th>\n",
       "      <td>QUEENS</td>\n",
       "      <td>520216</td>\n",
       "    </tr>\n",
       "    <tr>\n",
       "      <th>2</th>\n",
       "      <td>MANHATTAN</td>\n",
       "      <td>516768</td>\n",
       "    </tr>\n",
       "    <tr>\n",
       "      <th>3</th>\n",
       "      <td>BRONX</td>\n",
       "      <td>435437</td>\n",
       "    </tr>\n",
       "    <tr>\n",
       "      <th>4</th>\n",
       "      <td>STATEN ISLAND</td>\n",
       "      <td>108190</td>\n",
       "    </tr>\n",
       "    <tr>\n",
       "      <th>5</th>\n",
       "      <td>Unspecified</td>\n",
       "      <td>84329</td>\n",
       "    </tr>\n",
       "  </tbody>\n",
       "</table>\n",
       "</div>"
      ],
      "text/plain": [
       "         BORO_NM  complaint_c\n",
       "0       BROOKLYN       701245\n",
       "1         QUEENS       520216\n",
       "2      MANHATTAN       516768\n",
       "3          BRONX       435437\n",
       "4  STATEN ISLAND       108190\n",
       "5    Unspecified        84329"
      ]
     },
     "execution_count": 493,
     "metadata": {},
     "output_type": "execute_result"
    }
   ],
   "source": [
    "#The 311 Complaint data for 2016\n",
    "c_311 = pd.DataFrame(pd.value_counts(df_311_full['Borough']).reset_index())\n",
    "c_311.columns = ['BORO_NM', 'complaint_c']\n",
    "pd.DataFrame(c_311)"
   ]
  },
  {
   "cell_type": "markdown",
   "metadata": {},
   "source": [
    "**Table 1**. Amount of 311 Complaints by Borough"
   ]
  },
  {
   "cell_type": "markdown",
   "metadata": {},
   "source": [
    "This data will only be used to normalize the Homeless Encampments"
   ]
  },
  {
   "cell_type": "code",
   "execution_count": 407,
   "metadata": {
    "collapsed": true
   },
   "outputs": [],
   "source": [
    "#This filtered data contains only the Homeless Encampments for the year 2016\n",
    "df_311=pd.read_csv(\"Homeless_Encampments.csv\")"
   ]
  },
  {
   "cell_type": "code",
   "execution_count": 20,
   "metadata": {
    "collapsed": true
   },
   "outputs": [],
   "source": [
    "#This filtered data all NYPD complaints for the year 2016\n",
    "df_911=pd.read_csv(\"NYPD_Complaint_Data_Historic.csv\")"
   ]
  },
  {
   "cell_type": "code",
   "execution_count": 21,
   "metadata": {
    "collapsed": true
   },
   "outputs": [],
   "source": [
    "#The 911 dataset is filtered with only the following columns:\n",
    "df_911=df_911[['BORO_NM',\"ADDR_PCT_CD\",\"OFNS_DESC\",\"PD_DESC\",\"PREM_TYP_DESC\",\"CMPLNT_NUM\",\"LAW_CAT_CD\",'CMPLNT_FR_DT']]"
   ]
  },
  {
   "cell_type": "markdown",
   "metadata": {},
   "source": [
    "The columns relevant to the analysis are:\n",
    "\n",
    "**CMPLNT_FR_DT**, Exact date of occurrence for the reported event (or starting date of occurrence, if CMPLNT_TO_DT exists)\n",
    "\n",
    "**BORO_NM**, The name of the borough in which the incident occurred\n",
    "\n",
    "**ADDR_PCT_CD**, The precinct in which the incident occurred\t\n",
    "\n",
    "**LAW_CAT_CD**, Level of offense: felony, misdemeanor, violation"
   ]
  },
  {
   "cell_type": "code",
   "execution_count": 496,
   "metadata": {},
   "outputs": [
    {
     "name": "stdout",
     "output_type": "stream",
     "text": [
      "MANHATTAN        112919\n",
      "QUEENS            92392\n",
      "BROOKLYN         137851\n",
      "BRONX            103750\n",
      "STATEN ISLAND     21378\n",
      "Name: BORO_NM, dtype: int64\n"
     ]
    }
   ],
   "source": [
    "#This are the total number of complains by borough for 911 data:\n",
    "c_911_borough=pd.value_counts(df_911['BORO_NM'], sort=False)\n",
    "print c_911_borough"
   ]
  },
  {
   "cell_type": "markdown",
   "metadata": {},
   "source": [
    "**Table 2**. Amount of 911 Complaints by Borough"
   ]
  },
  {
   "cell_type": "code",
   "execution_count": null,
   "metadata": {
    "collapsed": true
   },
   "outputs": [],
   "source": []
  },
  {
   "cell_type": "code",
   "execution_count": 25,
   "metadata": {
    "collapsed": true
   },
   "outputs": [],
   "source": [
    "#The 311 dataset is filtered with only the following columns:\n",
    "df_311=df_311[['Created Date','Borough', 'Location Type']]"
   ]
  },
  {
   "cell_type": "markdown",
   "metadata": {},
   "source": [
    "The columns relevant to the analysis are:\n",
    "\n",
    "**Created Date**, Date of Complaint\n",
    "\n",
    "**Borough**, The name of the borough in which the incident occurred"
   ]
  },
  {
   "cell_type": "code",
   "execution_count": 497,
   "metadata": {},
   "outputs": [
    {
     "name": "stdout",
     "output_type": "stream",
     "text": [
      "         BORO_NM  Home_c\n",
      "0      MANHATTAN    3379\n",
      "1       BROOKLYN     895\n",
      "2         QUEENS     545\n",
      "3          BRONX     299\n",
      "4  STATEN ISLAND      56\n"
     ]
    }
   ],
   "source": [
    "#Counting homeless encampments by borough and converting it to a dataframe for later analysis.\n",
    "home_count = pd.DataFrame(pd.value_counts(df_311['Borough']).reset_index())\n",
    "home_count.columns = ['BORO_NM', 'Home_c']\n",
    "print(home_count)"
   ]
  },
  {
   "cell_type": "markdown",
   "metadata": {},
   "source": [
    "**Table 3**. Amount of 311 Homeless Encampments by Borough"
   ]
  },
  {
   "cell_type": "code",
   "execution_count": 125,
   "metadata": {},
   "outputs": [
    {
     "data": {
      "text/html": [
       "<div>\n",
       "<style>\n",
       "    .dataframe thead tr:only-child th {\n",
       "        text-align: right;\n",
       "    }\n",
       "\n",
       "    .dataframe thead th {\n",
       "        text-align: left;\n",
       "    }\n",
       "\n",
       "    .dataframe tbody tr th {\n",
       "        vertical-align: top;\n",
       "    }\n",
       "</style>\n",
       "<table border=\"1\" class=\"dataframe\">\n",
       "  <thead>\n",
       "    <tr style=\"text-align: right;\">\n",
       "      <th></th>\n",
       "      <th>BORO_NM</th>\n",
       "      <th>Home_c</th>\n",
       "      <th>complaint_c</th>\n",
       "      <th>norm_c</th>\n",
       "    </tr>\n",
       "  </thead>\n",
       "  <tbody>\n",
       "    <tr>\n",
       "      <th>0</th>\n",
       "      <td>MANHATTAN</td>\n",
       "      <td>3379</td>\n",
       "      <td>516768</td>\n",
       "      <td>0.006539</td>\n",
       "    </tr>\n",
       "    <tr>\n",
       "      <th>1</th>\n",
       "      <td>BROOKLYN</td>\n",
       "      <td>895</td>\n",
       "      <td>701245</td>\n",
       "      <td>0.001276</td>\n",
       "    </tr>\n",
       "    <tr>\n",
       "      <th>2</th>\n",
       "      <td>QUEENS</td>\n",
       "      <td>545</td>\n",
       "      <td>520216</td>\n",
       "      <td>0.001048</td>\n",
       "    </tr>\n",
       "    <tr>\n",
       "      <th>3</th>\n",
       "      <td>BRONX</td>\n",
       "      <td>299</td>\n",
       "      <td>435437</td>\n",
       "      <td>0.000687</td>\n",
       "    </tr>\n",
       "    <tr>\n",
       "      <th>4</th>\n",
       "      <td>STATEN ISLAND</td>\n",
       "      <td>56</td>\n",
       "      <td>108190</td>\n",
       "      <td>0.000518</td>\n",
       "    </tr>\n",
       "  </tbody>\n",
       "</table>\n",
       "</div>"
      ],
      "text/plain": [
       "         BORO_NM  Home_c  complaint_c    norm_c\n",
       "0      MANHATTAN    3379       516768  0.006539\n",
       "1       BROOKLYN     895       701245  0.001276\n",
       "2         QUEENS     545       520216  0.001048\n",
       "3          BRONX     299       435437  0.000687\n",
       "4  STATEN ISLAND      56       108190  0.000518"
      ]
     },
     "execution_count": 125,
     "metadata": {},
     "output_type": "execute_result"
    }
   ],
   "source": [
    "#The amount of Homeless Encampments is normalized by the amount of total complaints by borough\n",
    "home_c = pd.merge(norm_count, c_311, on='BORO_NM')\n",
    "home_c[\"norm_c\"]=home_c[\"Home_c\"]/home_c[\"complaint_c\"]\n",
    "home_c"
   ]
  },
  {
   "cell_type": "markdown",
   "metadata": {},
   "source": [
    "**Table 4**. 311 Homeless Encampments by Borough, Total number of Complaints and Normalized Count"
   ]
  },
  {
   "cell_type": "code",
   "execution_count": 132,
   "metadata": {
    "scrolled": true
   },
   "outputs": [
    {
     "data": {
      "text/html": [
       "<div>\n",
       "<style>\n",
       "    .dataframe thead tr:only-child th {\n",
       "        text-align: right;\n",
       "    }\n",
       "\n",
       "    .dataframe thead th {\n",
       "        text-align: left;\n",
       "    }\n",
       "\n",
       "    .dataframe tbody tr th {\n",
       "        vertical-align: top;\n",
       "    }\n",
       "</style>\n",
       "<table border=\"1\" class=\"dataframe\">\n",
       "  <thead>\n",
       "    <tr style=\"text-align: right;\">\n",
       "      <th>LAW_CAT_CD</th>\n",
       "      <th>FELONY</th>\n",
       "      <th>MISDEMEANOR</th>\n",
       "      <th>VIOLATION</th>\n",
       "    </tr>\n",
       "    <tr>\n",
       "      <th>BORO_NM</th>\n",
       "      <th></th>\n",
       "      <th></th>\n",
       "      <th></th>\n",
       "    </tr>\n",
       "  </thead>\n",
       "  <tbody>\n",
       "    <tr>\n",
       "      <th>BRONX</th>\n",
       "      <td>29397</td>\n",
       "      <td>59694</td>\n",
       "      <td>14659</td>\n",
       "    </tr>\n",
       "    <tr>\n",
       "      <th>BROOKLYN</th>\n",
       "      <td>44553</td>\n",
       "      <td>73128</td>\n",
       "      <td>20170</td>\n",
       "    </tr>\n",
       "    <tr>\n",
       "      <th>MANHATTAN</th>\n",
       "      <td>34899</td>\n",
       "      <td>64772</td>\n",
       "      <td>13248</td>\n",
       "    </tr>\n",
       "    <tr>\n",
       "      <th>QUEENS</th>\n",
       "      <td>30818</td>\n",
       "      <td>48076</td>\n",
       "      <td>13498</td>\n",
       "    </tr>\n",
       "    <tr>\n",
       "      <th>STATEN ISLAND</th>\n",
       "      <td>5051</td>\n",
       "      <td>12002</td>\n",
       "      <td>4325</td>\n",
       "    </tr>\n",
       "  </tbody>\n",
       "</table>\n",
       "</div>"
      ],
      "text/plain": [
       "LAW_CAT_CD     FELONY  MISDEMEANOR  VIOLATION\n",
       "BORO_NM                                      \n",
       "BRONX           29397        59694      14659\n",
       "BROOKLYN        44553        73128      20170\n",
       "MANHATTAN       34899        64772      13248\n",
       "QUEENS          30818        48076      13498\n",
       "STATEN ISLAND    5051        12002       4325"
      ]
     },
     "execution_count": 132,
     "metadata": {},
     "output_type": "execute_result"
    }
   ],
   "source": [
    "#Visualizing the levels of offense by borough\n",
    "pd.crosstab(df_911['BORO_NM'],df_911[\"LAW_CAT_CD\"])"
   ]
  },
  {
   "cell_type": "markdown",
   "metadata": {},
   "source": [
    "**Table 5**. 911 Levels of offense by Borough"
   ]
  },
  {
   "cell_type": "code",
   "execution_count": 232,
   "metadata": {
    "collapsed": true,
    "scrolled": true
   },
   "outputs": [],
   "source": [
    "#here another normalization is done. The specific level of offense by the total amounts of complaints per borough \n",
    "c_911_norm=pd.crosstab(df_911['BORO_NM'],df_911[\"LAW_CAT_CD\"]).apply(lambda r: r/r.sum(), axis=1)"
   ]
  },
  {
   "cell_type": "code",
   "execution_count": 204,
   "metadata": {
    "collapsed": true
   },
   "outputs": [],
   "source": [
    "#For reasons that I cannot explain, exporting a csv and opening a csv of a crosstab makes \n",
    "#the format of the table much easier to work with. Since is not necessary to execute the code\n",
    "#once the file is created, I leave it commented. \n",
    "\n",
    "#c_911_norm.to_csv(\"c_911_norm.csv\")\n",
    "#c_911_norm=pd.read_csv(\"c_911_norm.csv\")"
   ]
  },
  {
   "cell_type": "code",
   "execution_count": 210,
   "metadata": {
    "scrolled": true
   },
   "outputs": [
    {
     "data": {
      "text/html": [
       "<div>\n",
       "<style>\n",
       "    .dataframe thead tr:only-child th {\n",
       "        text-align: right;\n",
       "    }\n",
       "\n",
       "    .dataframe thead th {\n",
       "        text-align: left;\n",
       "    }\n",
       "\n",
       "    .dataframe tbody tr th {\n",
       "        vertical-align: top;\n",
       "    }\n",
       "</style>\n",
       "<table border=\"1\" class=\"dataframe\">\n",
       "  <thead>\n",
       "    <tr style=\"text-align: right;\">\n",
       "      <th></th>\n",
       "      <th>BORO_NM</th>\n",
       "      <th>FELONY</th>\n",
       "      <th>MISDEMEANOR</th>\n",
       "      <th>VIOLATION</th>\n",
       "    </tr>\n",
       "  </thead>\n",
       "  <tbody>\n",
       "    <tr>\n",
       "      <th>0</th>\n",
       "      <td>BRONX</td>\n",
       "      <td>0.283345</td>\n",
       "      <td>0.575364</td>\n",
       "      <td>0.141292</td>\n",
       "    </tr>\n",
       "    <tr>\n",
       "      <th>1</th>\n",
       "      <td>BROOKLYN</td>\n",
       "      <td>0.323197</td>\n",
       "      <td>0.530486</td>\n",
       "      <td>0.146317</td>\n",
       "    </tr>\n",
       "    <tr>\n",
       "      <th>2</th>\n",
       "      <td>MANHATTAN</td>\n",
       "      <td>0.309062</td>\n",
       "      <td>0.573615</td>\n",
       "      <td>0.117323</td>\n",
       "    </tr>\n",
       "    <tr>\n",
       "      <th>3</th>\n",
       "      <td>QUEENS</td>\n",
       "      <td>0.333557</td>\n",
       "      <td>0.520348</td>\n",
       "      <td>0.146095</td>\n",
       "    </tr>\n",
       "    <tr>\n",
       "      <th>4</th>\n",
       "      <td>STATEN ISLAND</td>\n",
       "      <td>0.236271</td>\n",
       "      <td>0.561418</td>\n",
       "      <td>0.202311</td>\n",
       "    </tr>\n",
       "  </tbody>\n",
       "</table>\n",
       "</div>"
      ],
      "text/plain": [
       "         BORO_NM    FELONY  MISDEMEANOR  VIOLATION\n",
       "0          BRONX  0.283345     0.575364   0.141292\n",
       "1       BROOKLYN  0.323197     0.530486   0.146317\n",
       "2      MANHATTAN  0.309062     0.573615   0.117323\n",
       "3         QUEENS  0.333557     0.520348   0.146095\n",
       "4  STATEN ISLAND  0.236271     0.561418   0.202311"
      ]
     },
     "execution_count": 210,
     "metadata": {},
     "output_type": "execute_result"
    }
   ],
   "source": [
    "c_911_norm"
   ]
  },
  {
   "cell_type": "markdown",
   "metadata": {},
   "source": [
    "**Table 6**. 911 Levels of offense by Borough Normalized Count"
   ]
  },
  {
   "cell_type": "code",
   "execution_count": 501,
   "metadata": {
    "collapsed": true,
    "scrolled": true
   },
   "outputs": [],
   "source": [
    "#Merging Homeless Encampments and offense type\n",
    "c_all=pd.merge(home_c, c_911_norm, on='BORO_NM')\n"
   ]
  },
  {
   "cell_type": "code",
   "execution_count": 502,
   "metadata": {},
   "outputs": [
    {
     "data": {
      "text/html": [
       "<div>\n",
       "<style>\n",
       "    .dataframe thead tr:only-child th {\n",
       "        text-align: right;\n",
       "    }\n",
       "\n",
       "    .dataframe thead th {\n",
       "        text-align: left;\n",
       "    }\n",
       "\n",
       "    .dataframe tbody tr th {\n",
       "        vertical-align: top;\n",
       "    }\n",
       "</style>\n",
       "<table border=\"1\" class=\"dataframe\">\n",
       "  <thead>\n",
       "    <tr style=\"text-align: right;\">\n",
       "      <th></th>\n",
       "      <th>BORO_NM</th>\n",
       "      <th>Home_c</th>\n",
       "      <th>complaint_c</th>\n",
       "      <th>norm_c</th>\n",
       "      <th>FELONY</th>\n",
       "      <th>MISDEMEANOR</th>\n",
       "      <th>VIOLATION</th>\n",
       "    </tr>\n",
       "  </thead>\n",
       "  <tbody>\n",
       "    <tr>\n",
       "      <th>0</th>\n",
       "      <td>MANHATTAN</td>\n",
       "      <td>3379</td>\n",
       "      <td>516768</td>\n",
       "      <td>0.006539</td>\n",
       "      <td>0.309062</td>\n",
       "      <td>0.573615</td>\n",
       "      <td>0.117323</td>\n",
       "    </tr>\n",
       "    <tr>\n",
       "      <th>1</th>\n",
       "      <td>BROOKLYN</td>\n",
       "      <td>895</td>\n",
       "      <td>701245</td>\n",
       "      <td>0.001276</td>\n",
       "      <td>0.323197</td>\n",
       "      <td>0.530486</td>\n",
       "      <td>0.146317</td>\n",
       "    </tr>\n",
       "    <tr>\n",
       "      <th>2</th>\n",
       "      <td>QUEENS</td>\n",
       "      <td>545</td>\n",
       "      <td>520216</td>\n",
       "      <td>0.001048</td>\n",
       "      <td>0.333557</td>\n",
       "      <td>0.520348</td>\n",
       "      <td>0.146095</td>\n",
       "    </tr>\n",
       "    <tr>\n",
       "      <th>3</th>\n",
       "      <td>BRONX</td>\n",
       "      <td>299</td>\n",
       "      <td>435437</td>\n",
       "      <td>0.000687</td>\n",
       "      <td>0.283345</td>\n",
       "      <td>0.575364</td>\n",
       "      <td>0.141292</td>\n",
       "    </tr>\n",
       "    <tr>\n",
       "      <th>4</th>\n",
       "      <td>STATEN ISLAND</td>\n",
       "      <td>56</td>\n",
       "      <td>108190</td>\n",
       "      <td>0.000518</td>\n",
       "      <td>0.236271</td>\n",
       "      <td>0.561418</td>\n",
       "      <td>0.202311</td>\n",
       "    </tr>\n",
       "  </tbody>\n",
       "</table>\n",
       "</div>"
      ],
      "text/plain": [
       "         BORO_NM  Home_c  complaint_c    norm_c    FELONY  MISDEMEANOR  \\\n",
       "0      MANHATTAN    3379       516768  0.006539  0.309062     0.573615   \n",
       "1       BROOKLYN     895       701245  0.001276  0.323197     0.530486   \n",
       "2         QUEENS     545       520216  0.001048  0.333557     0.520348   \n",
       "3          BRONX     299       435437  0.000687  0.283345     0.575364   \n",
       "4  STATEN ISLAND      56       108190  0.000518  0.236271     0.561418   \n",
       "\n",
       "   VIOLATION  \n",
       "0   0.117323  \n",
       "1   0.146317  \n",
       "2   0.146095  \n",
       "3   0.141292  \n",
       "4   0.202311  "
      ]
     },
     "execution_count": 502,
     "metadata": {},
     "output_type": "execute_result"
    }
   ],
   "source": [
    "c_all"
   ]
  },
  {
   "cell_type": "markdown",
   "metadata": {},
   "source": [
    "**Table 7**. Merged table by Borough"
   ]
  },
  {
   "cell_type": "code",
   "execution_count": 555,
   "metadata": {},
   "outputs": [
    {
     "data": {
      "text/plain": [
       "<matplotlib.text.Text at 0xa2ba5898>"
      ]
     },
     "execution_count": 555,
     "metadata": {},
     "output_type": "execute_result"
    },
    {
     "data": {
      "text/plain": [
       "<matplotlib.figure.Figure at 0x98681b38>"
      ]
     },
     "metadata": {},
     "output_type": "display_data"
    },
    {
     "data": {
      "image/png": "[encoded data removed]",
      "text/plain": [
       "<matplotlib.figure.Figure at 0x98681358>"
      ]
     },
     "metadata": {},
     "output_type": "display_data"
    }
   ],
   "source": [
    "#create a figure object\n",
    "fig = pl.figure()\n",
    "fig, axs = plt.subplots(1,3,figsize=(20,5))\n",
    "\n",
    "#populate it with subplots as axis objects\n",
    "ax1 = fig.add_subplot(131)\n",
    "ax2 = fig.add_subplot(132)\n",
    "ax3 = fig.add_subplot(133)\n",
    "\n",
    "ax1.plot(c_all[\"norm_c\"],c_all[\"FELONY\"], \"o\", label = \"Felonies\")\n",
    "ax1.set_xlabel(\"Homeless Encampment\", fontsize = 15)\n",
    "ax1.set_ylabel(\"Felonies\", fontsize = 15)\n",
    "\n",
    "ax1.set_title('Felonies and Homeless Encampments, count by Borough')\n",
    "\n",
    "ax2.plot(c_all[\"norm_c\"],c_all[\"MISDEMEANOR\"], \"o\")\n",
    "ax2.set_xlabel(\"Homeless Encampment\", fontsize = 15)\n",
    "ax2.set_ylabel(\"Misdemeanor\", fontsize = 15)\n",
    "\n",
    "ax2.set_title('Misdemeanor and Homeless Encampments, count by Borough')\n",
    "\n",
    "ax3.plot(c_all[\"norm_c\"],c_all[\"VIOLATION\"], \"o\")\n",
    "ax3.set_xlabel(\"Homeless Encampment\", fontsize = 15)\n",
    "ax3.set_ylabel(\"Violations\", fontsize = 15);\n",
    "\n",
    "ax3.set_title('Violations and Homeless Encampments, count by Borough')\n",
    "\n"
   ]
  },
  {
   "cell_type": "markdown",
   "metadata": {},
   "source": [
    "**Figure 1.** Different Level of ofenses and Homeless Encampments. Five points is not enough to make a correlation. Anyway we can observer that Manattan is a very extreme case, it has the most Homeless Encampments even after normalization."
   ]
  },
  {
   "cell_type": "markdown",
   "metadata": {},
   "source": [
    "Due to Manhattan's extreme nature (it has the highest amount of Homeless Encampments complaints per total complaints), the following analysis was continued only in that Borough"
   ]
  },
  {
   "cell_type": "code",
   "execution_count": 252,
   "metadata": {
    "scrolled": true
   },
   "outputs": [
    {
     "name": "stderr",
     "output_type": "stream",
     "text": [
      "C:\\Users\\usuario\\Anaconda3\\envs\\Python2\\lib\\site-packages\\ipykernel_launcher.py:1: SettingWithCopyWarning: \n",
      "A value is trying to be set on a copy of a slice from a DataFrame.\n",
      "Try using .loc[row_indexer,col_indexer] = value instead\n",
      "\n",
      "See the caveats in the documentation: http://pandas.pydata.org/pandas-docs/stable/indexing.html#indexing-view-versus-copy\n",
      "  \"\"\"Entry point for launching an IPython kernel.\n"
     ]
    }
   ],
   "source": [
    "#Converting Date to datetime\n",
    "df_311[\"Created Date\"]=pd.to_datetime(df_311[\"Created Date\"])"
   ]
  },
  {
   "cell_type": "code",
   "execution_count": null,
   "metadata": {
    "collapsed": true
   },
   "outputs": [],
   "source": [
    "#Converting Date to datetime\n",
    "df_911[\"CMPLNT_FR_DT\"]=pd.to_datetime(df_911[\"CMPLNT_FR_DT\"])"
   ]
  },
  {
   "cell_type": "code",
   "execution_count": 265,
   "metadata": {
    "collapsed": true
   },
   "outputs": [],
   "source": [
    "#Creating a 311 Data Frame with only Manhattan's complaints\n",
    "df311_man=df_311[df_311[\"Borough\"]==\"MANHATTAN\"]"
   ]
  },
  {
   "cell_type": "code",
   "execution_count": null,
   "metadata": {
    "collapsed": true
   },
   "outputs": [],
   "source": [
    "#Creating a 911 Data Frame with only Manhattan's complaints\n",
    "df911_man=df_911[df_911[\"BORO_NM\"]==\"MANHATTAN\"]\n"
   ]
  },
  {
   "cell_type": "code",
   "execution_count": null,
   "metadata": {
    "collapsed": true
   },
   "outputs": [],
   "source": [
    "#A table count of Homeless encampments is created\n",
    "home_man_count=pd.DataFrame(pd.value_counts(df311_man[\"Created Date\"].dt.month)).reset_index()\n",
    "home_man_count.columns = ['Month', 'H_Encampment']\n",
    "print(home_man_count)"
   ]
  },
  {
   "cell_type": "code",
   "execution_count": null,
   "metadata": {
    "collapsed": true
   },
   "outputs": [],
   "source": [
    "#Table counts of offenses\n",
    "mis_man_count = pd.DataFrame(pd.value_counts(df911_man[\"CMPLNT_FR_DT\"].dt.month[df911_man[\"LAW_CAT_CD\"]==\"MISDEMEANOR\"]).reset_index())\n",
    "mis_man_count.columns = ['Month', 'Misdemeanor']\n",
    "\n",
    "fel_man_count = pd.DataFrame(pd.value_counts(df911_man[\"CMPLNT_FR_DT\"].dt.month[df911_man[\"LAW_CAT_CD\"]==\"FELONY\"]).reset_index())\n",
    "fel_man_count.columns = ['Month', 'Felonies']\n",
    "\n",
    "vio_man_count = pd.DataFrame(pd.value_counts(df911_man[\"CMPLNT_FR_DT\"].dt.month[df911_man[\"LAW_CAT_CD\"]==\"VIOLATION\"]).reset_index())\n",
    "vio_man_count.columns = ['Month', 'Violations']\n"
   ]
  },
  {
   "cell_type": "code",
   "execution_count": 585,
   "metadata": {},
   "outputs": [
    {
     "data": {
      "text/html": [
       "<div>\n",
       "<style>\n",
       "    .dataframe thead tr:only-child th {\n",
       "        text-align: right;\n",
       "    }\n",
       "\n",
       "    .dataframe thead th {\n",
       "        text-align: left;\n",
       "    }\n",
       "\n",
       "    .dataframe tbody tr th {\n",
       "        vertical-align: top;\n",
       "    }\n",
       "</style>\n",
       "<table border=\"1\" class=\"dataframe\">\n",
       "  <thead>\n",
       "    <tr style=\"text-align: right;\">\n",
       "      <th></th>\n",
       "      <th>Month</th>\n",
       "      <th>H_Encampment</th>\n",
       "      <th>Felonies</th>\n",
       "      <th>Misdemeanor</th>\n",
       "      <th>Violations</th>\n",
       "    </tr>\n",
       "  </thead>\n",
       "  <tbody>\n",
       "    <tr>\n",
       "      <th>0</th>\n",
       "      <td>8</td>\n",
       "      <td>500</td>\n",
       "      <td>3219</td>\n",
       "      <td>5976</td>\n",
       "      <td>1247</td>\n",
       "    </tr>\n",
       "    <tr>\n",
       "      <th>1</th>\n",
       "      <td>9</td>\n",
       "      <td>417</td>\n",
       "      <td>2869</td>\n",
       "      <td>5287</td>\n",
       "      <td>1117</td>\n",
       "    </tr>\n",
       "    <tr>\n",
       "      <th>2</th>\n",
       "      <td>7</td>\n",
       "      <td>388</td>\n",
       "      <td>3166</td>\n",
       "      <td>5507</td>\n",
       "      <td>1100</td>\n",
       "    </tr>\n",
       "    <tr>\n",
       "      <th>3</th>\n",
       "      <td>10</td>\n",
       "      <td>336</td>\n",
       "      <td>3068</td>\n",
       "      <td>5482</td>\n",
       "      <td>1153</td>\n",
       "    </tr>\n",
       "    <tr>\n",
       "      <th>4</th>\n",
       "      <td>6</td>\n",
       "      <td>336</td>\n",
       "      <td>3082</td>\n",
       "      <td>5851</td>\n",
       "      <td>1185</td>\n",
       "    </tr>\n",
       "    <tr>\n",
       "      <th>5</th>\n",
       "      <td>5</td>\n",
       "      <td>285</td>\n",
       "      <td>2964</td>\n",
       "      <td>5708</td>\n",
       "      <td>1200</td>\n",
       "    </tr>\n",
       "    <tr>\n",
       "      <th>6</th>\n",
       "      <td>3</td>\n",
       "      <td>228</td>\n",
       "      <td>2968</td>\n",
       "      <td>5580</td>\n",
       "      <td>1155</td>\n",
       "    </tr>\n",
       "    <tr>\n",
       "      <th>7</th>\n",
       "      <td>4</td>\n",
       "      <td>211</td>\n",
       "      <td>2872</td>\n",
       "      <td>5697</td>\n",
       "      <td>1110</td>\n",
       "    </tr>\n",
       "    <tr>\n",
       "      <th>8</th>\n",
       "      <td>11</td>\n",
       "      <td>205</td>\n",
       "      <td>2684</td>\n",
       "      <td>4850</td>\n",
       "      <td>1045</td>\n",
       "    </tr>\n",
       "    <tr>\n",
       "      <th>9</th>\n",
       "      <td>12</td>\n",
       "      <td>170</td>\n",
       "      <td>2661</td>\n",
       "      <td>4793</td>\n",
       "      <td>948</td>\n",
       "    </tr>\n",
       "    <tr>\n",
       "      <th>10</th>\n",
       "      <td>1</td>\n",
       "      <td>157</td>\n",
       "      <td>2867</td>\n",
       "      <td>5227</td>\n",
       "      <td>1055</td>\n",
       "    </tr>\n",
       "    <tr>\n",
       "      <th>11</th>\n",
       "      <td>2</td>\n",
       "      <td>146</td>\n",
       "      <td>2479</td>\n",
       "      <td>4814</td>\n",
       "      <td>933</td>\n",
       "    </tr>\n",
       "  </tbody>\n",
       "</table>\n",
       "</div>"
      ],
      "text/plain": [
       "    Month  H_Encampment  Felonies  Misdemeanor  Violations\n",
       "0       8           500      3219         5976        1247\n",
       "1       9           417      2869         5287        1117\n",
       "2       7           388      3166         5507        1100\n",
       "3      10           336      3068         5482        1153\n",
       "4       6           336      3082         5851        1185\n",
       "5       5           285      2964         5708        1200\n",
       "6       3           228      2968         5580        1155\n",
       "7       4           211      2872         5697        1110\n",
       "8      11           205      2684         4850        1045\n",
       "9      12           170      2661         4793         948\n",
       "10      1           157      2867         5227        1055\n",
       "11      2           146      2479         4814         933"
      ]
     },
     "execution_count": 585,
     "metadata": {},
     "output_type": "execute_result"
    }
   ],
   "source": [
    "#Merging all the count tables in one\n",
    "c_man_all=pd.merge(home_man_count, fel_man_count, on=\"Month\")\n",
    "c_man_all=pd.merge(c_man_all, mis_man_count, on=\"Month\")\n",
    "c_man_all=pd.merge(c_man_all, vio_man_count, on=\"Month\")\n",
    "c_man_all"
   ]
  },
  {
   "cell_type": "markdown",
   "metadata": {},
   "source": [
    "**Table 8**. Merged table by month"
   ]
  },
  {
   "cell_type": "code",
   "execution_count": 595,
   "metadata": {
    "scrolled": true
   },
   "outputs": [
    {
     "data": {
      "text/plain": [
       "<matplotlib.figure.Figure at 0x8bf2ff60>"
      ]
     },
     "metadata": {},
     "output_type": "display_data"
    },
    {
     "data": {
      "image/png": "[encoded data removed]",
      "text/plain": [
       "<matplotlib.figure.Figure at 0x8bf2ff28>"
      ]
     },
     "metadata": {},
     "output_type": "display_data"
    }
   ],
   "source": [
    "#create a figure object\n",
    "fig2 = pl.figure()\n",
    "\n",
    "fig2, ((ax1, ax2), (ax3, ax4)) = plt.subplots(nrows=2, ncols=2,figsize=(10,8))\n",
    "\n",
    "ax1.hist(df311_man[\"Created Date\"].dt.month, bins=12)\n",
    "ax2.hist(df911_man[\"CMPLNT_FR_DT\"].dt.month[df911_man[\"LAW_CAT_CD\"]==\"FELONY\"],bins=12, color=\"r\")\n",
    "ax3.hist(df911_man[\"CMPLNT_FR_DT\"].dt.month[df911_man[\"LAW_CAT_CD\"]==\"MISDEMEANOR\"],bins=12, color=\"y\")\n",
    "ax4.hist(df911_man[\"CMPLNT_FR_DT\"].dt.month[df911_man[\"LAW_CAT_CD\"]==\"VIOLATION\"],bins=12, color=\"g\");\n",
    "\n",
    "ax3.set_xlabel(\"Month\", fontsize = 15)\n",
    "ax4.set_xlabel(\"Month\", fontsize = 15)\n",
    "\n",
    "ax1.set_title('Manhattan Homeless Encampments by month')\n",
    "ax2.set_title('Manhattan Felonies by month')\n",
    "ax2.set_ylim([2000,4000])\n",
    "ax3.set_title('Manhattan Misdemeanor by month')\n",
    "ax3.set_ylim([2000,8000])\n",
    "ax4.set_title('Manhattan Violations by month')\n",
    "ax4.set_ylim([0,3000]);\n"
   ]
  },
  {
   "cell_type": "markdown",
   "metadata": {},
   "source": [
    "**Figure 2.** Histograms of type of offense and Homeless Encampments. \n",
    "\n",
    "The Homeless Encampments show a higher frequency in the warmer months. The 911 show a similar pattern but not as defined."
   ]
  },
  {
   "cell_type": "markdown",
   "metadata": {},
   "source": [
    "Although 12 points is not enough for a serious linear model, we can anyway try to see if there is any temporal correlation at the month level between homeless encampments and offenses."
   ]
  },
  {
   "cell_type": "code",
   "execution_count": 587,
   "metadata": {},
   "outputs": [
    {
     "data": {
      "text/html": [
       "<table class=\"simpletable\">\n",
       "<caption>OLS Regression Results</caption>\n",
       "<tr>\n",
       "  <th>Dep. Variable:</th>       <td>Violations</td>    <th>  R-squared:         </th> <td>   0.536</td>\n",
       "</tr>\n",
       "<tr>\n",
       "  <th>Model:</th>                   <td>OLS</td>       <th>  Adj. R-squared:    </th> <td>   0.489</td>\n",
       "</tr>\n",
       "<tr>\n",
       "  <th>Method:</th>             <td>Least Squares</td>  <th>  F-statistic:       </th> <td>   11.53</td>\n",
       "</tr>\n",
       "<tr>\n",
       "  <th>Date:</th>             <td>Mon, 09 Oct 2017</td> <th>  Prob (F-statistic):</th>  <td>0.00681</td>\n",
       "</tr>\n",
       "<tr>\n",
       "  <th>Time:</th>                 <td>17:38:00</td>     <th>  Log-Likelihood:    </th> <td> -66.647</td>\n",
       "</tr>\n",
       "<tr>\n",
       "  <th>No. Observations:</th>      <td>    12</td>      <th>  AIC:               </th> <td>   137.3</td>\n",
       "</tr>\n",
       "<tr>\n",
       "  <th>Df Residuals:</th>          <td>    10</td>      <th>  BIC:               </th> <td>   138.3</td>\n",
       "</tr>\n",
       "<tr>\n",
       "  <th>Df Model:</th>              <td>     1</td>      <th>                     </th>     <td> </td>   \n",
       "</tr>\n",
       "<tr>\n",
       "  <th>Covariance Type:</th>      <td>nonrobust</td>    <th>                     </th>     <td> </td>   \n",
       "</tr>\n",
       "</table>\n",
       "<table class=\"simpletable\">\n",
       "<tr>\n",
       "        <td></td>          <th>coef</th>     <th>std err</th>      <th>t</th>      <th>P>|t|</th>  <th>[0.025</th>    <th>0.975]</th>  \n",
       "</tr>\n",
       "<tr>\n",
       "  <th>Intercept</th>    <td>  931.1141</td> <td>   54.607</td> <td>   17.051</td> <td> 0.000</td> <td>  809.441</td> <td> 1052.787</td>\n",
       "</tr>\n",
       "<tr>\n",
       "  <th>H_Encampment</th> <td>    0.6140</td> <td>    0.181</td> <td>    3.396</td> <td> 0.007</td> <td>    0.211</td> <td>    1.017</td>\n",
       "</tr>\n",
       "</table>\n",
       "<table class=\"simpletable\">\n",
       "<tr>\n",
       "  <th>Omnibus:</th>       <td> 2.145</td> <th>  Durbin-Watson:     </th> <td>   1.150</td>\n",
       "</tr>\n",
       "<tr>\n",
       "  <th>Prob(Omnibus):</th> <td> 0.342</td> <th>  Jarque-Bera (JB):  </th> <td>   0.924</td>\n",
       "</tr>\n",
       "<tr>\n",
       "  <th>Skew:</th>          <td>-0.121</td> <th>  Prob(JB):          </th> <td>   0.630</td>\n",
       "</tr>\n",
       "<tr>\n",
       "  <th>Kurtosis:</th>      <td> 1.663</td> <th>  Cond. No.          </th> <td>    835.</td>\n",
       "</tr>\n",
       "</table>"
      ],
      "text/plain": [
       "<class 'statsmodels.iolib.summary.Summary'>\n",
       "\"\"\"\n",
       "                            OLS Regression Results                            \n",
       "==============================================================================\n",
       "Dep. Variable:             Violations   R-squared:                       0.536\n",
       "Model:                            OLS   Adj. R-squared:                  0.489\n",
       "Method:                 Least Squares   F-statistic:                     11.53\n",
       "Date:                Mon, 09 Oct 2017   Prob (F-statistic):            0.00681\n",
       "Time:                        17:38:00   Log-Likelihood:                -66.647\n",
       "No. Observations:                  12   AIC:                             137.3\n",
       "Df Residuals:                      10   BIC:                             138.3\n",
       "Df Model:                           1                                         \n",
       "Covariance Type:            nonrobust                                         \n",
       "================================================================================\n",
       "                   coef    std err          t      P>|t|      [0.025      0.975]\n",
       "--------------------------------------------------------------------------------\n",
       "Intercept      931.1141     54.607     17.051      0.000     809.441    1052.787\n",
       "H_Encampment     0.6140      0.181      3.396      0.007       0.211       1.017\n",
       "==============================================================================\n",
       "Omnibus:                        2.145   Durbin-Watson:                   1.150\n",
       "Prob(Omnibus):                  0.342   Jarque-Bera (JB):                0.924\n",
       "Skew:                          -0.121   Prob(JB):                        0.630\n",
       "Kurtosis:                       1.663   Cond. No.                         835.\n",
       "==============================================================================\n",
       "\n",
       "Warnings:\n",
       "[1] Standard Errors assume that the covariance matrix of the errors is correctly specified.\n",
       "\"\"\""
      ]
     },
     "execution_count": 587,
     "metadata": {},
     "output_type": "execute_result"
    }
   ],
   "source": [
    "#creating a linear model for Felonies\n",
    "lm_fel = smf.ols(formula=\"Felonies~H_Encampment\", data = c_man_all).fit()\n",
    "lm_fel.summary()\n",
    "\n",
    "#creating a linear model for Misdemeanor\n",
    "lm_mis = smf.ols(formula=\"Misdemeanor~H_Encampment\", data = c_man_all).fit()\n",
    "lm_mis.summary()\n",
    "\n",
    "#creating a linear model for violations\n",
    "lm_vio = smf.ols(formula=\"Violations~H_Encampment\", data = c_man_all).fit()\n",
    "lm_vio.summary()"
   ]
  },
  {
   "cell_type": "markdown",
   "metadata": {},
   "source": [
    "**Table 9**. Linear model for Violations against Homeless Encampments.\n",
    "\n",
    "Violations and Homeless Encampments have a significant correlation, but that could be explained by the temperature during each month. During warmer months is easier to live in the streets and also more people are in the street with higher chance of them commiting violations. \n",
    "Similar findings for the other two offenses."
   ]
  },
  {
   "cell_type": "code",
   "execution_count": null,
   "metadata": {
    "collapsed": true
   },
   "outputs": [],
   "source": []
  },
  {
   "cell_type": "code",
   "execution_count": 588,
   "metadata": {
    "scrolled": true
   },
   "outputs": [
    {
     "data": {
      "image/png": "[encoded data removed]",
      "text/plain": [
       "<matplotlib.figure.Figure at 0x5a41a438>"
      ]
     },
     "metadata": {},
     "output_type": "display_data"
    }
   ],
   "source": [
    "#Violations against Homeless Encampment\n",
    "fig, ax = plt.subplots()\n",
    "ax.scatter(c_man_all[\"H_Encampment\"],c_man_all[\"Violations\"])\n",
    "plt.plot(c_man_all[\"H_Encampment\"], c_man_all[\"H_Encampment\"]*lm_vio.params[1] + lm_vio.params[0],c=\"r\")\n",
    "pl.ylabel(\"Violations\");\n",
    "pl.xlabel(\"Homeless encampment\");\n"
   ]
  },
  {
   "cell_type": "markdown",
   "metadata": {},
   "source": [
    "**Figure 3.** Linear fit and scatterplot of Homeless Encampments against Violations agreggating data by month.\n",
    "\n",
    "The other types of offenses show a similar pattern. The higher the violations, the higher the Homeless Encampments."
   ]
  },
  {
   "cell_type": "markdown",
   "metadata": {},
   "source": [
    "To get better resolution, the data can be analysed by day instead of by month."
   ]
  },
  {
   "cell_type": "code",
   "execution_count": 371,
   "metadata": {
    "collapsed": true
   },
   "outputs": [],
   "source": [
    "#Extracting date from Homeless Encampment\n",
    "home_man_count_d=pd.DataFrame(pd.value_counts(df311_man[\"Created Date\"].dt.strftime('%d-%m'))).reset_index()\n",
    "home_man_count_d.columns = ['Date', 'H_Encampment']\n"
   ]
  },
  {
   "cell_type": "code",
   "execution_count": 427,
   "metadata": {
    "collapsed": true
   },
   "outputs": [],
   "source": [
    "#Extracting date from offenses\n",
    "mis_man_count_d = pd.DataFrame(pd.value_counts(df911_man[\"CMPLNT_FR_DT\"].dt.strftime('%d-%m')[df911_man[\"LAW_CAT_CD\"]==\"MISDEMEANOR\"]).reset_index())\n",
    "mis_man_count_d.columns = ['Date', 'Misdemeanor']\n",
    "\n",
    "fel_man_count_d = pd.DataFrame(pd.value_counts(df911_man[\"CMPLNT_FR_DT\"].dt.strftime('%d-%m')[df911_man[\"LAW_CAT_CD\"]==\"FELONY\"]).reset_index())\n",
    "fel_man_count_d.columns = ['Date', 'Felonies']\n",
    "\n",
    "vio_man_count_d = pd.DataFrame(pd.value_counts(df911_man[\"CMPLNT_FR_DT\"].dt.strftime('%d-%m')[df911_man[\"LAW_CAT_CD\"]==\"VIOLATION\"]).reset_index())\n",
    "vio_man_count_d.columns = ['Date', 'Violations']"
   ]
  },
  {
   "cell_type": "code",
   "execution_count": 410,
   "metadata": {
    "collapsed": true
   },
   "outputs": [],
   "source": [
    "#Merging coun tables\n",
    "c_man_all_d=pd.merge(home_man_count_d, mis_man_count_d, on=\"Date\")\n",
    "c_man_all_d=pd.merge(c_man_all_d, fel_man_count_d, on=\"Date\")\n",
    "c_man_all_d=pd.merge(c_man_all_d, vio_man_count_d, on=\"Date\")\n"
   ]
  },
  {
   "cell_type": "code",
   "execution_count": 596,
   "metadata": {
    "scrolled": true
   },
   "outputs": [
    {
     "data": {
      "text/html": [
       "<table class=\"simpletable\">\n",
       "<caption>OLS Regression Results</caption>\n",
       "<tr>\n",
       "  <th>Dep. Variable:</th>       <td>Violations</td>    <th>  R-squared:         </th> <td>   0.122</td>\n",
       "</tr>\n",
       "<tr>\n",
       "  <th>Model:</th>                   <td>OLS</td>       <th>  Adj. R-squared:    </th> <td>   0.119</td>\n",
       "</tr>\n",
       "<tr>\n",
       "  <th>Method:</th>             <td>Least Squares</td>  <th>  F-statistic:       </th> <td>   49.34</td>\n",
       "</tr>\n",
       "<tr>\n",
       "  <th>Date:</th>             <td>Mon, 09 Oct 2017</td> <th>  Prob (F-statistic):</th> <td>1.10e-11</td>\n",
       "</tr>\n",
       "<tr>\n",
       "  <th>Time:</th>                 <td>17:49:48</td>     <th>  Log-Likelihood:    </th> <td> -1208.6</td>\n",
       "</tr>\n",
       "<tr>\n",
       "  <th>No. Observations:</th>      <td>   358</td>      <th>  AIC:               </th> <td>   2421.</td>\n",
       "</tr>\n",
       "<tr>\n",
       "  <th>Df Residuals:</th>          <td>   356</td>      <th>  BIC:               </th> <td>   2429.</td>\n",
       "</tr>\n",
       "<tr>\n",
       "  <th>Df Model:</th>              <td>     1</td>      <th>                     </th>     <td> </td>   \n",
       "</tr>\n",
       "<tr>\n",
       "  <th>Covariance Type:</th>      <td>nonrobust</td>    <th>                     </th>     <td> </td>   \n",
       "</tr>\n",
       "</table>\n",
       "<table class=\"simpletable\">\n",
       "<tr>\n",
       "        <td></td>          <th>coef</th>     <th>std err</th>      <th>t</th>      <th>P>|t|</th>  <th>[0.025</th>    <th>0.975]</th>  \n",
       "</tr>\n",
       "<tr>\n",
       "  <th>Intercept</th>    <td>   31.9115</td> <td>    0.745</td> <td>   42.811</td> <td> 0.000</td> <td>   30.446</td> <td>   33.377</td>\n",
       "</tr>\n",
       "<tr>\n",
       "  <th>H_Encampment</th> <td>    0.4793</td> <td>    0.068</td> <td>    7.024</td> <td> 0.000</td> <td>    0.345</td> <td>    0.614</td>\n",
       "</tr>\n",
       "</table>\n",
       "<table class=\"simpletable\">\n",
       "<tr>\n",
       "  <th>Omnibus:</th>       <td> 1.465</td> <th>  Durbin-Watson:     </th> <td>   1.943</td>\n",
       "</tr>\n",
       "<tr>\n",
       "  <th>Prob(Omnibus):</th> <td> 0.481</td> <th>  Jarque-Bera (JB):  </th> <td>   1.353</td>\n",
       "</tr>\n",
       "<tr>\n",
       "  <th>Skew:</th>          <td> 0.150</td> <th>  Prob(JB):          </th> <td>   0.508</td>\n",
       "</tr>\n",
       "<tr>\n",
       "  <th>Kurtosis:</th>      <td> 3.026</td> <th>  Cond. No.          </th> <td>    21.8</td>\n",
       "</tr>\n",
       "</table>"
      ],
      "text/plain": [
       "<class 'statsmodels.iolib.summary.Summary'>\n",
       "\"\"\"\n",
       "                            OLS Regression Results                            \n",
       "==============================================================================\n",
       "Dep. Variable:             Violations   R-squared:                       0.122\n",
       "Model:                            OLS   Adj. R-squared:                  0.119\n",
       "Method:                 Least Squares   F-statistic:                     49.34\n",
       "Date:                Mon, 09 Oct 2017   Prob (F-statistic):           1.10e-11\n",
       "Time:                        17:49:48   Log-Likelihood:                -1208.6\n",
       "No. Observations:                 358   AIC:                             2421.\n",
       "Df Residuals:                     356   BIC:                             2429.\n",
       "Df Model:                           1                                         \n",
       "Covariance Type:            nonrobust                                         \n",
       "================================================================================\n",
       "                   coef    std err          t      P>|t|      [0.025      0.975]\n",
       "--------------------------------------------------------------------------------\n",
       "Intercept       31.9115      0.745     42.811      0.000      30.446      33.377\n",
       "H_Encampment     0.4793      0.068      7.024      0.000       0.345       0.614\n",
       "==============================================================================\n",
       "Omnibus:                        1.465   Durbin-Watson:                   1.943\n",
       "Prob(Omnibus):                  0.481   Jarque-Bera (JB):                1.353\n",
       "Skew:                           0.150   Prob(JB):                        0.508\n",
       "Kurtosis:                       3.026   Cond. No.                         21.8\n",
       "==============================================================================\n",
       "\n",
       "Warnings:\n",
       "[1] Standard Errors assume that the covariance matrix of the errors is correctly specified.\n",
       "\"\"\""
      ]
     },
     "execution_count": 596,
     "metadata": {},
     "output_type": "execute_result"
    }
   ],
   "source": [
    "#Creating linear models for violations against Homeless Encampments\n",
    "lm_vio_d = smf.ols(formula=\"Violations~H_Encampment\", data = c_man_all_d).fit()\n",
    "lm_vio_d.summary()"
   ]
  },
  {
   "cell_type": "markdown",
   "metadata": {},
   "source": [
    "**Table 10**. linear models for violations against Homeless Encampments aggregated by date"
   ]
  },
  {
   "cell_type": "code",
   "execution_count": 405,
   "metadata": {},
   "outputs": [
    {
     "data": {
      "image/png": "[encoded data removed]",
      "text/plain": [
       "<matplotlib.figure.Figure at 0x674f1668>"
      ]
     },
     "metadata": {},
     "output_type": "display_data"
    }
   ],
   "source": [
    "fig, ax = plt.subplots()\n",
    "ax.scatter(c_man_all_d[\"H_Encampment\"],c_man_all_d['Violations'])\n",
    "plt.plot(c_man_all_d[\"H_Encampment\"], c_man_all_d[\"H_Encampment\"]*lm_vio_d.params[1] + lm_vio_d.params[0],c=\"r\")\n",
    "pl.ylabel('Violations');\n",
    "pl.xlabel(\"Homeless encampment\");"
   ]
  },
  {
   "cell_type": "markdown",
   "metadata": {},
   "source": [
    "**Figure 4.** Linear fit and scatterplot of Homeless Encampments against Violations agreggating data by day\n",
    "\n",
    "The other types of offenses show a similar pattern. The higher the violations, the higher the Homeless Encampments.\n",
    "In this case the correlation is not as strong.\n",
    "A complaint on homeless Encampment doesn't correlate strongly with a complaint of any type violation/misdemeanor/felony.\n",
    "\n",
    "If crime and homeless encampments are related, the time span should be more than a single day."
   ]
  },
  {
   "cell_type": "markdown",
   "metadata": {},
   "source": [
    "### Spatial Correlation\n",
    "Due to technical technical inability, the only type of spatial correlation that could be performed was aggregating data across precint.\n",
    "\n",
    "Offense type are already characterized by precint, but Homeless Encampment aren't. \n",
    "\n",
    "To solve this, the site Carto was used with the function \"Intersect Second Layer\" in \"Analysis\". A Shape File of the NYPD Precincts and the Homeless shelteres with their Latitude and Longitude was used.\n",
    "\n",
    "This creates two new columns in the data set with the counts and density counts of the variable (homeless Encampments) aggregated by precinct. This new data set was loaded in ipython for future analysis.\n"
   ]
  },
  {
   "cell_type": "code",
   "execution_count": 430,
   "metadata": {},
   "outputs": [
    {
     "data": {
      "text/plain": [
       "Index([u'Precinct', u'Homeless_Encampment_Count'], dtype='object')"
      ]
     },
     "execution_count": 430,
     "metadata": {},
     "output_type": "execute_result"
    }
   ],
   "source": [
    "#Loading Homeless Encampment by precinct\n",
    "prec_home_c=pd.read_csv(\"Counts per precinct.csv\")\n",
    "prec_home_c.columns"
   ]
  },
  {
   "cell_type": "code",
   "execution_count": 429,
   "metadata": {
    "collapsed": true
   },
   "outputs": [],
   "source": [
    "#Creating count tables of offenses by precinct\n",
    "vio_prec_count = pd.DataFrame(pd.value_counts(df_911[\"ADDR_PCT_CD\"][df_911[\"LAW_CAT_CD\"]==\"VIOLATION\"]).reset_index())\n",
    "vio_prec_count.columns = ['Precinct', 'Violation']\n",
    "\n",
    "mis_prec_count = pd.DataFrame(pd.value_counts(df_911[\"ADDR_PCT_CD\"][df_911[\"LAW_CAT_CD\"]==\"MISDEMEANOR\"]).reset_index())\n",
    "mis_prec_count.columns = ['Precinct', 'Misdemeanor']\n",
    "\n",
    "fel_prec_count = pd.DataFrame(pd.value_counts(df_911[\"ADDR_PCT_CD\"][df_911[\"LAW_CAT_CD\"]==\"FELONY\"]).reset_index())\n",
    "fel_prec_count.columns = ['Precinct', 'Felonies']"
   ]
  },
  {
   "cell_type": "code",
   "execution_count": 433,
   "metadata": {
    "collapsed": true
   },
   "outputs": [],
   "source": [
    "#Merging tables\n",
    "prec_all=pd.merge(prec_home_c, vio_prec_count, on=\"Precinct\")\n",
    "prec_all=pd.merge(prec_all, mis_prec_count, on=\"Precinct\")\n",
    "prec_all=pd.merge(prec_all, fel_prec_count, on=\"Precinct\")\n"
   ]
  },
  {
   "cell_type": "code",
   "execution_count": 627,
   "metadata": {},
   "outputs": [
    {
     "data": {
      "text/html": [
       "<div>\n",
       "<style>\n",
       "    .dataframe thead tr:only-child th {\n",
       "        text-align: right;\n",
       "    }\n",
       "\n",
       "    .dataframe thead th {\n",
       "        text-align: left;\n",
       "    }\n",
       "\n",
       "    .dataframe tbody tr th {\n",
       "        vertical-align: top;\n",
       "    }\n",
       "</style>\n",
       "<table border=\"1\" class=\"dataframe\">\n",
       "  <thead>\n",
       "    <tr style=\"text-align: right;\">\n",
       "      <th></th>\n",
       "      <th>Precinct</th>\n",
       "      <th>Homeless_Encampment_Count</th>\n",
       "      <th>Violation</th>\n",
       "      <th>Misdemeanor</th>\n",
       "      <th>Felonies</th>\n",
       "    </tr>\n",
       "  </thead>\n",
       "  <tbody>\n",
       "    <tr>\n",
       "      <th>count</th>\n",
       "      <td>77.000000</td>\n",
       "      <td>77.000000</td>\n",
       "      <td>77.000000</td>\n",
       "      <td>77.000000</td>\n",
       "      <td>77.000000</td>\n",
       "    </tr>\n",
       "    <tr>\n",
       "      <th>mean</th>\n",
       "      <td>63.324675</td>\n",
       "      <td>66.324675</td>\n",
       "      <td>855.844156</td>\n",
       "      <td>3346.389610</td>\n",
       "      <td>1879.454545</td>\n",
       "    </tr>\n",
       "    <tr>\n",
       "      <th>std</th>\n",
       "      <td>36.118388</td>\n",
       "      <td>105.719146</td>\n",
       "      <td>387.933495</td>\n",
       "      <td>1385.424647</td>\n",
       "      <td>809.040685</td>\n",
       "    </tr>\n",
       "    <tr>\n",
       "      <th>min</th>\n",
       "      <td>1.000000</td>\n",
       "      <td>3.000000</td>\n",
       "      <td>49.000000</td>\n",
       "      <td>190.000000</td>\n",
       "      <td>85.000000</td>\n",
       "    </tr>\n",
       "    <tr>\n",
       "      <th>25%</th>\n",
       "      <td>32.000000</td>\n",
       "      <td>20.000000</td>\n",
       "      <td>591.000000</td>\n",
       "      <td>2426.000000</td>\n",
       "      <td>1376.000000</td>\n",
       "    </tr>\n",
       "    <tr>\n",
       "      <th>50%</th>\n",
       "      <td>66.000000</td>\n",
       "      <td>31.000000</td>\n",
       "      <td>786.000000</td>\n",
       "      <td>3114.000000</td>\n",
       "      <td>1691.000000</td>\n",
       "    </tr>\n",
       "    <tr>\n",
       "      <th>75%</th>\n",
       "      <td>100.000000</td>\n",
       "      <td>56.000000</td>\n",
       "      <td>1041.000000</td>\n",
       "      <td>3943.000000</td>\n",
       "      <td>2334.000000</td>\n",
       "    </tr>\n",
       "    <tr>\n",
       "      <th>max</th>\n",
       "      <td>123.000000</td>\n",
       "      <td>686.000000</td>\n",
       "      <td>2080.000000</td>\n",
       "      <td>7531.000000</td>\n",
       "      <td>5172.000000</td>\n",
       "    </tr>\n",
       "  </tbody>\n",
       "</table>\n",
       "</div>"
      ],
      "text/plain": [
       "         Precinct  Homeless_Encampment_Count    Violation  Misdemeanor  \\\n",
       "count   77.000000                  77.000000    77.000000    77.000000   \n",
       "mean    63.324675                  66.324675   855.844156  3346.389610   \n",
       "std     36.118388                 105.719146   387.933495  1385.424647   \n",
       "min      1.000000                   3.000000    49.000000   190.000000   \n",
       "25%     32.000000                  20.000000   591.000000  2426.000000   \n",
       "50%     66.000000                  31.000000   786.000000  3114.000000   \n",
       "75%    100.000000                  56.000000  1041.000000  3943.000000   \n",
       "max    123.000000                 686.000000  2080.000000  7531.000000   \n",
       "\n",
       "          Felonies  \n",
       "count    77.000000  \n",
       "mean   1879.454545  \n",
       "std     809.040685  \n",
       "min      85.000000  \n",
       "25%    1376.000000  \n",
       "50%    1691.000000  \n",
       "75%    2334.000000  \n",
       "max    5172.000000  "
      ]
     },
     "execution_count": 627,
     "metadata": {},
     "output_type": "execute_result"
    }
   ],
   "source": [
    "#Some statistics of the precintcs\n",
    "prec_all.describe()"
   ]
  },
  {
   "cell_type": "markdown",
   "metadata": {},
   "source": [
    "**Table 11**. Statistics for precint and offenses."
   ]
  },
  {
   "cell_type": "code",
   "execution_count": 628,
   "metadata": {},
   "outputs": [
    {
     "data": {
      "text/plain": [
       "Precinct                       14\n",
       "Homeless_Encampment_Count     686\n",
       "Violation                     666\n",
       "Misdemeanor                  6007\n",
       "Felonies                     3461\n",
       "Name: 7, dtype: int64"
      ]
     },
     "execution_count": 628,
     "metadata": {},
     "output_type": "execute_result"
    }
   ],
   "source": [
    "#The precinct with the highest Homeless Encampment Count\n",
    "prec_all.loc[prec_all[\"Homeless_Encampment_Count\"].idxmax()]"
   ]
  },
  {
   "cell_type": "markdown",
   "metadata": {},
   "source": [
    "**Table 12**. Statistics for precinct with the most Homeless Encampment counts."
   ]
  },
  {
   "cell_type": "code",
   "execution_count": null,
   "metadata": {
    "collapsed": true
   },
   "outputs": [],
   "source": []
  },
  {
   "cell_type": "code",
   "execution_count": 600,
   "metadata": {},
   "outputs": [
    {
     "data": {
      "image/png": "[encoded data removed]",
      "text/plain": [
       "<matplotlib.figure.Figure at 0x2db25128>"
      ]
     },
     "metadata": {},
     "output_type": "display_data"
    }
   ],
   "source": [
    "#Linear Model of Violations against Homeless Encampment Count Aggregated by precint\n",
    "fig, ax = plt.subplots()\n",
    "ax.scatter(prec_all[\"Homeless_Encampment_Count\"],prec_all['Violation'])\n",
    "pl.ylabel('Violations');\n",
    "pl.xlabel(\"Homeless encampment\");"
   ]
  },
  {
   "cell_type": "markdown",
   "metadata": {},
   "source": [
    "**Figure 5.** Scatterplot of Homeless Encampments against Violations agreggating data by precinct.\n",
    "\n",
    "It doesn't seem to be a correlation, but most of the data points are concentrated in one side.\n",
    "A log scale is tryied to better visualize the data.\n",
    "\n",
    "Anyway, note that some of the precincts with most encampments are the ones with lowest frequency of violations. "
   ]
  },
  {
   "cell_type": "code",
   "execution_count": 610,
   "metadata": {},
   "outputs": [
    {
     "data": {
      "text/html": [
       "<table class=\"simpletable\">\n",
       "<caption>OLS Regression Results</caption>\n",
       "<tr>\n",
       "  <th>Dep. Variable:</th>    <td>np.log(Felonies)</td> <th>  R-squared:         </th> <td>   0.068</td>\n",
       "</tr>\n",
       "<tr>\n",
       "  <th>Model:</th>                   <td>OLS</td>       <th>  Adj. R-squared:    </th> <td>   0.055</td>\n",
       "</tr>\n",
       "<tr>\n",
       "  <th>Method:</th>             <td>Least Squares</td>  <th>  F-statistic:       </th> <td>   5.440</td>\n",
       "</tr>\n",
       "<tr>\n",
       "  <th>Date:</th>             <td>Mon, 09 Oct 2017</td> <th>  Prob (F-statistic):</th>  <td>0.0224</td> \n",
       "</tr>\n",
       "<tr>\n",
       "  <th>Time:</th>                 <td>18:11:17</td>     <th>  Log-Likelihood:    </th> <td> -56.823</td>\n",
       "</tr>\n",
       "<tr>\n",
       "  <th>No. Observations:</th>      <td>    77</td>      <th>  AIC:               </th> <td>   117.6</td>\n",
       "</tr>\n",
       "<tr>\n",
       "  <th>Df Residuals:</th>          <td>    75</td>      <th>  BIC:               </th> <td>   122.3</td>\n",
       "</tr>\n",
       "<tr>\n",
       "  <th>Df Model:</th>              <td>     1</td>      <th>                     </th>     <td> </td>   \n",
       "</tr>\n",
       "<tr>\n",
       "  <th>Covariance Type:</th>      <td>nonrobust</td>    <th>                     </th>     <td> </td>   \n",
       "</tr>\n",
       "</table>\n",
       "<table class=\"simpletable\">\n",
       "<tr>\n",
       "                  <td></td>                     <th>coef</th>     <th>std err</th>      <th>t</th>      <th>P>|t|</th>  <th>[0.025</th>    <th>0.975]</th>  \n",
       "</tr>\n",
       "<tr>\n",
       "  <th>Intercept</th>                         <td>    6.9540</td> <td>    0.213</td> <td>   32.572</td> <td> 0.000</td> <td>    6.529</td> <td>    7.379</td>\n",
       "</tr>\n",
       "<tr>\n",
       "  <th>np.log(Homeless_Encampment_Count)</th> <td>    0.1338</td> <td>    0.057</td> <td>    2.332</td> <td> 0.022</td> <td>    0.020</td> <td>    0.248</td>\n",
       "</tr>\n",
       "</table>\n",
       "<table class=\"simpletable\">\n",
       "<tr>\n",
       "  <th>Omnibus:</th>       <td>57.990</td> <th>  Durbin-Watson:     </th> <td>   1.607</td>\n",
       "</tr>\n",
       "<tr>\n",
       "  <th>Prob(Omnibus):</th> <td> 0.000</td> <th>  Jarque-Bera (JB):  </th> <td> 413.590</td>\n",
       "</tr>\n",
       "<tr>\n",
       "  <th>Skew:</th>          <td>-2.087</td> <th>  Prob(JB):          </th> <td>1.55e-90</td>\n",
       "</tr>\n",
       "<tr>\n",
       "  <th>Kurtosis:</th>      <td>13.559</td> <th>  Cond. No.          </th> <td>    14.5</td>\n",
       "</tr>\n",
       "</table>"
      ],
      "text/plain": [
       "<class 'statsmodels.iolib.summary.Summary'>\n",
       "\"\"\"\n",
       "                            OLS Regression Results                            \n",
       "==============================================================================\n",
       "Dep. Variable:       np.log(Felonies)   R-squared:                       0.068\n",
       "Model:                            OLS   Adj. R-squared:                  0.055\n",
       "Method:                 Least Squares   F-statistic:                     5.440\n",
       "Date:                Mon, 09 Oct 2017   Prob (F-statistic):             0.0224\n",
       "Time:                        18:11:17   Log-Likelihood:                -56.823\n",
       "No. Observations:                  77   AIC:                             117.6\n",
       "Df Residuals:                      75   BIC:                             122.3\n",
       "Df Model:                           1                                         \n",
       "Covariance Type:            nonrobust                                         \n",
       "=====================================================================================================\n",
       "                                        coef    std err          t      P>|t|      [0.025      0.975]\n",
       "-----------------------------------------------------------------------------------------------------\n",
       "Intercept                             6.9540      0.213     32.572      0.000       6.529       7.379\n",
       "np.log(Homeless_Encampment_Count)     0.1338      0.057      2.332      0.022       0.020       0.248\n",
       "==============================================================================\n",
       "Omnibus:                       57.990   Durbin-Watson:                   1.607\n",
       "Prob(Omnibus):                  0.000   Jarque-Bera (JB):              413.590\n",
       "Skew:                          -2.087   Prob(JB):                     1.55e-90\n",
       "Kurtosis:                      13.559   Cond. No.                         14.5\n",
       "==============================================================================\n",
       "\n",
       "Warnings:\n",
       "[1] Standard Errors assume that the covariance matrix of the errors is correctly specified.\n",
       "\"\"\""
      ]
     },
     "execution_count": 610,
     "metadata": {},
     "output_type": "execute_result"
    }
   ],
   "source": [
    "lm_fel_pc = smf.ols(formula=\"np.log(Felonies)~np.log(Homeless_Encampment_Count)\", data = prec_all).fit()\n",
    "lm_fel_pc.summary()"
   ]
  },
  {
   "cell_type": "code",
   "execution_count": 611,
   "metadata": {},
   "outputs": [
    {
     "data": {
      "image/png": "[encoded data removed]",
      "text/plain": [
       "<matplotlib.figure.Figure at 0x75847b70>"
      ]
     },
     "metadata": {},
     "output_type": "display_data"
    }
   ],
   "source": [
    "fig, ax = plt.subplots()\n",
    "ax.scatter(np.log(prec_all[\"Homeless_Encampment_Count\"]),np.log(prec_all['Felonies']))\n",
    "plt.plot(np.log(prec_all[\"Homeless_Encampment_Count\"]), np.log(prec_all[\"Homeless_Encampment_Count\"])*lm_fel_pc.params[1] + lm_fel_pc.params[0],c=\"r\")\n",
    "pl.ylabel('Violations');\n",
    "pl.xlabel(\"Homeless encampment\");"
   ]
  },
  {
   "cell_type": "markdown",
   "metadata": {},
   "source": [
    "**Figure 6.** Scatterplot and Linear Fit of Homeless Encampments against Violations agreggating data by precinct. Log Scale.\n",
    "There is almost no correlation between this variables. "
   ]
  },
  {
   "cell_type": "markdown",
   "metadata": {},
   "source": [
    "#### Major crimes \n",
    "A final comparison was performed. The NYPD COMPSTAT has statistics for the seven major felonies per precinct.\n",
    "The 2016 was obtained from the site and used for the following \"analysis\"."
   ]
  },
  {
   "cell_type": "code",
   "execution_count": 481,
   "metadata": {
    "collapsed": true
   },
   "outputs": [],
   "source": [
    "#Loading 7 major crimes dataset for 2016\n",
    "df911_7=pd.read_csv(\"seven-major-felony-offenses-by-precinct-2016.csv\")\n",
    "df911_7.columns=[\"Precinct\",\"Major_Total_7\"]"
   ]
  },
  {
   "cell_type": "code",
   "execution_count": 482,
   "metadata": {
    "scrolled": true
   },
   "outputs": [
    {
     "data": {
      "text/html": [
       "<div>\n",
       "<style>\n",
       "    .dataframe thead tr:only-child th {\n",
       "        text-align: right;\n",
       "    }\n",
       "\n",
       "    .dataframe thead th {\n",
       "        text-align: left;\n",
       "    }\n",
       "\n",
       "    .dataframe tbody tr th {\n",
       "        vertical-align: top;\n",
       "    }\n",
       "</style>\n",
       "<table border=\"1\" class=\"dataframe\">\n",
       "  <thead>\n",
       "    <tr style=\"text-align: right;\">\n",
       "      <th></th>\n",
       "      <th>Precinct</th>\n",
       "      <th>Homeless_Encampment_Count</th>\n",
       "      <th>Major_Total_7</th>\n",
       "    </tr>\n",
       "  </thead>\n",
       "  <tbody>\n",
       "    <tr>\n",
       "      <th>0</th>\n",
       "      <td>1</td>\n",
       "      <td>232</td>\n",
       "      <td>1395</td>\n",
       "    </tr>\n",
       "    <tr>\n",
       "      <th>1</th>\n",
       "      <td>5</td>\n",
       "      <td>87</td>\n",
       "      <td>899</td>\n",
       "    </tr>\n",
       "    <tr>\n",
       "      <th>2</th>\n",
       "      <td>6</td>\n",
       "      <td>182</td>\n",
       "      <td>1388</td>\n",
       "    </tr>\n",
       "    <tr>\n",
       "      <th>3</th>\n",
       "      <td>7</td>\n",
       "      <td>23</td>\n",
       "      <td>823</td>\n",
       "    </tr>\n",
       "    <tr>\n",
       "      <th>4</th>\n",
       "      <td>9</td>\n",
       "      <td>406</td>\n",
       "      <td>1463</td>\n",
       "    </tr>\n",
       "  </tbody>\n",
       "</table>\n",
       "</div>"
      ],
      "text/plain": [
       "   Precinct  Homeless_Encampment_Count  Major_Total_7\n",
       "0         1                        232           1395\n",
       "1         5                         87            899\n",
       "2         6                        182           1388\n",
       "3         7                         23            823\n",
       "4         9                        406           1463"
      ]
     },
     "execution_count": 482,
     "metadata": {},
     "output_type": "execute_result"
    }
   ],
   "source": [
    "#Merging with homeless couunt\n",
    "prec_7=pd.merge(prec_home_c, df911_7, on=\"Precinct\")\n",
    "prec_7.head()"
   ]
  },
  {
   "cell_type": "code",
   "execution_count": 491,
   "metadata": {},
   "outputs": [
    {
     "data": {
      "text/html": [
       "<table class=\"simpletable\">\n",
       "<caption>OLS Regression Results</caption>\n",
       "<tr>\n",
       "  <th>Dep. Variable:</th>    <td>np.log(Homeless_Encampment_Count)</td> <th>  R-squared:         </th> <td>   0.155</td>\n",
       "</tr>\n",
       "<tr>\n",
       "  <th>Model:</th>                           <td>OLS</td>                <th>  Adj. R-squared:    </th> <td>   0.143</td>\n",
       "</tr>\n",
       "<tr>\n",
       "  <th>Method:</th>                     <td>Least Squares</td>           <th>  F-statistic:       </th> <td>   13.71</td>\n",
       "</tr>\n",
       "<tr>\n",
       "  <th>Date:</th>                     <td>Mon, 09 Oct 2017</td>          <th>  Prob (F-statistic):</th> <td>0.000406</td>\n",
       "</tr>\n",
       "<tr>\n",
       "  <th>Time:</th>                         <td>14:05:22</td>              <th>  Log-Likelihood:    </th> <td> -104.23</td>\n",
       "</tr>\n",
       "<tr>\n",
       "  <th>No. Observations:</th>              <td>    77</td>               <th>  AIC:               </th> <td>   212.5</td>\n",
       "</tr>\n",
       "<tr>\n",
       "  <th>Df Residuals:</th>                  <td>    75</td>               <th>  BIC:               </th> <td>   217.2</td>\n",
       "</tr>\n",
       "<tr>\n",
       "  <th>Df Model:</th>                      <td>     1</td>               <th>                     </th>     <td> </td>   \n",
       "</tr>\n",
       "<tr>\n",
       "  <th>Covariance Type:</th>              <td>nonrobust</td>             <th>                     </th>     <td> </td>   \n",
       "</tr>\n",
       "</table>\n",
       "<table class=\"simpletable\">\n",
       "<tr>\n",
       "            <td></td>               <th>coef</th>     <th>std err</th>      <th>t</th>      <th>P>|t|</th>  <th>[0.025</th>    <th>0.975]</th>  \n",
       "</tr>\n",
       "<tr>\n",
       "  <th>Intercept</th>             <td>   -1.8690</td> <td>    1.476</td> <td>   -1.266</td> <td> 0.209</td> <td>   -4.809</td> <td>    1.071</td>\n",
       "</tr>\n",
       "<tr>\n",
       "  <th>np.log(Major_Total_7)</th> <td>    0.7704</td> <td>    0.208</td> <td>    3.702</td> <td> 0.000</td> <td>    0.356</td> <td>    1.185</td>\n",
       "</tr>\n",
       "</table>\n",
       "<table class=\"simpletable\">\n",
       "<tr>\n",
       "  <th>Omnibus:</th>       <td> 2.841</td> <th>  Durbin-Watson:     </th> <td>   1.006</td>\n",
       "</tr>\n",
       "<tr>\n",
       "  <th>Prob(Omnibus):</th> <td> 0.242</td> <th>  Jarque-Bera (JB):  </th> <td>   2.459</td>\n",
       "</tr>\n",
       "<tr>\n",
       "  <th>Skew:</th>          <td> 0.438</td> <th>  Prob(JB):          </th> <td>   0.292</td>\n",
       "</tr>\n",
       "<tr>\n",
       "  <th>Kurtosis:</th>      <td> 3.022</td> <th>  Cond. No.          </th> <td>    98.7</td>\n",
       "</tr>\n",
       "</table>"
      ],
      "text/plain": [
       "<class 'statsmodels.iolib.summary.Summary'>\n",
       "\"\"\"\n",
       "                                    OLS Regression Results                                   \n",
       "=============================================================================================\n",
       "Dep. Variable:     np.log(Homeless_Encampment_Count)   R-squared:                       0.155\n",
       "Model:                                           OLS   Adj. R-squared:                  0.143\n",
       "Method:                                Least Squares   F-statistic:                     13.71\n",
       "Date:                               Mon, 09 Oct 2017   Prob (F-statistic):           0.000406\n",
       "Time:                                       14:05:22   Log-Likelihood:                -104.23\n",
       "No. Observations:                                 77   AIC:                             212.5\n",
       "Df Residuals:                                     75   BIC:                             217.2\n",
       "Df Model:                                          1                                         \n",
       "Covariance Type:                           nonrobust                                         \n",
       "=========================================================================================\n",
       "                            coef    std err          t      P>|t|      [0.025      0.975]\n",
       "-----------------------------------------------------------------------------------------\n",
       "Intercept                -1.8690      1.476     -1.266      0.209      -4.809       1.071\n",
       "np.log(Major_Total_7)     0.7704      0.208      3.702      0.000       0.356       1.185\n",
       "==============================================================================\n",
       "Omnibus:                        2.841   Durbin-Watson:                   1.006\n",
       "Prob(Omnibus):                  0.242   Jarque-Bera (JB):                2.459\n",
       "Skew:                           0.438   Prob(JB):                        0.292\n",
       "Kurtosis:                       3.022   Cond. No.                         98.7\n",
       "==============================================================================\n",
       "\n",
       "Warnings:\n",
       "[1] Standard Errors assume that the covariance matrix of the errors is correctly specified.\n",
       "\"\"\""
      ]
     },
     "execution_count": 491,
     "metadata": {},
     "output_type": "execute_result"
    }
   ],
   "source": [
    "#Creating linear model with log scale\n",
    "lm_7 = smf.ols(formula=\"np.log(Homeless_Encampment_Count)~np.log(Major_Total_7)\", data = prec_7).fit()\n",
    "lm_7.summary()\n"
   ]
  },
  {
   "cell_type": "code",
   "execution_count": 620,
   "metadata": {},
   "outputs": [
    {
     "data": {
      "image/png": "[encoded data removed]",
      "text/plain": [
       "<matplotlib.figure.Figure at 0x5cef9f60>"
      ]
     },
     "metadata": {},
     "output_type": "display_data"
    }
   ],
   "source": [
    "fig, ax = plt.subplots()\n",
    "ax.scatter(prec_7[\"Homeless_Encampment_Count\"],prec_7['Major_Total_7'])\n",
    "pl.ylabel('Seven Major Crimes');\n",
    "pl.xlabel(\"Homeless encampment\");"
   ]
  },
  {
   "cell_type": "markdown",
   "metadata": {},
   "source": [
    "**Figure 7.** Scatterplot of Homeless Encampments against 7 major crimes agreggating data by precinct. \n",
    "\n",
    "The pattern is similar to the other offenses, so to is the model with the log scale (not presented)."
   ]
  },
  {
   "cell_type": "markdown",
   "metadata": {},
   "source": [
    "#### Carto Map"
   ]
  },
  {
   "cell_type": "markdown",
   "metadata": {},
   "source": [
    "<img src=\"files/Homeless Encampment by Precint.png\">"
   ]
  },
  {
   "cell_type": "markdown",
   "metadata": {},
   "source": [
    "**Figure 8.** Homeless Encampments by Precinct\n",
    "\n",
    "Link: https://jif245.carto.com/builder/6d99d550-e3a5-400c-bc70-3ed9c008d1f7/embed"
   ]
  },
  {
   "cell_type": "markdown",
   "metadata": {},
   "source": [
    "#### Discussion.\n",
    "\n",
    "No clear relation between Homeless Encampment and crime was found in this analysis. \n",
    "Most probable causes of this are the limitations of the analysis, another type of more granular spatial correlation should be tried, for example, by Census Tract or Community Borough. \n",
    "\n",
    "Nevertheless, there is also a limitation with the data, the Homeless Encampments are too few in some areas to establish a pattern or correlation. For this reason, it would be useful to include complaints about Homeless Person Assistance and analyze both type of complaints in conjunction.\n",
    "\n",
    "Precinct 14 in Midtown Precinct South, was the one with the highest counts and an outlier of sorts. It also has one of the highest seven major crimes counts. \n",
    "One explanation for this, is that even if the amount of permanent residents in the area is small, the amount of tourist and everyday circulation makes it a hotspot for every type of crime and also, makes it more attractive to panhandler and homeless people. It should also be considered that once an area has a big concentration of homeless people, this could act as an atractor for more homeless people.\n",
    "\n",
    "Further analysis could eliminate this type of outiliers from the data set. Both, crime count and Homeless Encampments are to hight to do a correct assessment.\n",
    "\n",
    "Finally, other databases that could be included in further analysis could analyze other atractors of homeless people such as vacant buildings.\n",
    "\n",
    "\n"
   ]
  },
  {
   "cell_type": "markdown",
   "metadata": {},
   "source": [
    "#### References.\n",
    "\n",
    "*Cronley, C., Jeong, S., Davis, J. B., & Madden, E. (2015). Effects of Homelessness and Child Maltreatment on the Likelihood of Engaging in Property and Violent Crime During Adulthood. Journal of Human Behavior in the Social Environment, 25(3), 192-203. https://doi.org/10.1080/10911359.2014.966219\n",
    "\n",
    "*Greg A. Greenberg, P. D., & Robert A. Rosenheck, M. D. (2008). Jail Incarceration, Homelessness, and Mental Health: A National Study. Psychiatric Services, 59(2), 170-177.\n",
    "\n",
    "*Tyler, K. A., & Beal, M. R. (2010). The High-Risk Environment of Homeless Young Adults: Consequences for Physical and Sexual Victimization. Violence and Victims, 25(1), 101-115. https://doi.org/10.1891/0886-6708.25.1.101\n"
   ]
  }
 ],
 "metadata": {
  "kernelspec": {
   "display_name": "Python 2",
   "language": "python",
   "name": "python2"
  },
  "language_info": {
   "codemirror_mode": {
    "name": "ipython",
    "version": 2
   },
   "file_extension": ".py",
   "mimetype": "text/x-python",
   "name": "python",
   "nbconvert_exporter": "python",
   "pygments_lexer": "ipython2",
   "version": "2.7.13"
  }
 },
 "nbformat": 4,
 "nbformat_minor": 2
}
