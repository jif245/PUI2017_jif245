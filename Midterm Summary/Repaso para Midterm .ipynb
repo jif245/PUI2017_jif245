{
 "cells": [
  {
   "cell_type": "code",
   "execution_count": 1,
   "metadata": {
    "collapsed": false
   },
   "outputs": [
    {
     "name": "stdout",
     "output_type": "stream",
     "text": [
      "Populating the interactive namespace from numpy and matplotlib\n"
     ]
    }
   ],
   "source": [
    "## commong packages for CUSP NYU PUI class\n",
    "\n",
    "#from __future__ import print_function, division\n",
    "#import geopandas as gp\n",
    "import numpy as np\n",
    "#import pandas as pd\n",
    "import os\n",
    "#import json\n",
    "import pylab as pl\n",
    "from pandas.tools.plotting import scatter_matrix\n",
    "#import statsmodels.api as sm\n",
    "#import statsmodels.formula.api as smf\n",
    "#import datetime as dt\n",
    "#import scipy\n",
    "#import scipy.stats\n",
    "\n",
    "%pylab inline\n"
   ]
  },
  {
   "cell_type": "code",
   "execution_count": null,
   "metadata": {
    "collapsed": true
   },
   "outputs": [],
   "source": [
    "#To take information from datafacility\n",
    "os.getenv(\"DFDATA\")"
   ]
  },
  {
   "cell_type": "markdown",
   "metadata": {},
   "source": [
    "### Downloading from web"
   ]
  },
  {
   "cell_type": "code",
   "execution_count": null,
   "metadata": {
    "collapsed": true
   },
   "outputs": [],
   "source": [
    "df_pop=pd.read_csv(\"API_SP.POP.TOTL_DS2_en_csv_v2.csv\", skiprows=(0,2)) #Population, we are skipping rows because the first two \n",
    "                                                                        #don't have relevant information"
   ]
  },
  {
   "cell_type": "code",
   "execution_count": null,
   "metadata": {
    "collapsed": true
   },
   "outputs": [],
   "source": [
    "#download, move data to $PUIDATA, and read data in \n",
    "!curl -O https://data.cityofnewyork.us/api/views/rgfe-8y2z/rows.csv\n",
    "cmd = \"mv rows.csv \" + os.getenv(\"PUIDATA\")\n",
    "#the line below is to check that my string is formatted right. I should remove it to make the notebook delivery ready\n",
    "print (cmd)\n"
   ]
  },
  {
   "cell_type": "code",
   "execution_count": null,
   "metadata": {
    "collapsed": true
   },
   "outputs": [],
   "source": [
    "#Para json, el de abajo. También es importante asegurar reproducibilidad.\n",
    "json_data=open('/home/cusp/jss895/PUI2017/PUIdata/vehicle-monitoring.json').read()\n",
    "data = json.loads(json_data)"
   ]
  },
  {
   "cell_type": "markdown",
   "metadata": {},
   "source": [
    "### Unziping in place "
   ]
  },
  {
   "cell_type": "code",
   "execution_count": null,
   "metadata": {
    "collapsed": true
   },
   "outputs": [],
   "source": [
    "#to unzip in specific place\n",
    "os.system(\"unzip  -d %s mn_mappluto_16v1.zip\"%(os.getenv(\"PUIDATA\") + '/Manhattan'))"
   ]
  },
  {
   "cell_type": "code",
   "execution_count": null,
   "metadata": {
    "collapsed": false
   },
   "outputs": [],
   "source": [
    "#to list was in the directory\n",
    "#cmd = \"ls \" + os.getenv(\"PUIDATA\")+\"/Manhattan\"\n",
    "#print (cmd)\n",
    "#os.system(cmd)\n",
    "!ls $PUIDATA/Manhattan/*"
   ]
  },
  {
   "cell_type": "markdown",
   "metadata": {},
   "source": [
    "### Data Cleaning"
   ]
  },
  {
   "cell_type": "code",
   "execution_count": null,
   "metadata": {
    "collapsed": true
   },
   "outputs": [],
   "source": [
    "#check data looking at it columns after importing\n",
    "df.columns"
   ]
  },
  {
   "cell_type": "code",
   "execution_count": null,
   "metadata": {
    "collapsed": true
   },
   "outputs": [],
   "source": [
    "# Check which is the indexing column\n",
    "df.index"
   ]
  },
  {
   "cell_type": "code",
   "execution_count": null,
   "metadata": {
    "collapsed": true
   },
   "outputs": [],
   "source": [
    "# Resetting index\n",
    "df.set_index(\"column\", inplace=True) #el inplace reemplaza el df original"
   ]
  },
  {
   "cell_type": "code",
   "execution_count": null,
   "metadata": {
    "collapsed": true
   },
   "outputs": [],
   "source": [
    "#sus sampling by broadcasting\n",
    "test=df[::100]"
   ]
  },
  {
   "cell_type": "code",
   "execution_count": null,
   "metadata": {
    "collapsed": false
   },
   "outputs": [],
   "source": [
    "#check number os NaNs in a colum\n",
    "df[\"column\"].isnull().sum()"
   ]
  },
  {
   "cell_type": "code",
   "execution_count": null,
   "metadata": {
    "collapsed": true
   },
   "outputs": [],
   "source": [
    "df.dropna(subset=[\"column\"],inplace=True) #el inplace reemplaza el dataframe original"
   ]
  },
  {
   "cell_type": "code",
   "execution_count": null,
   "metadata": {
    "collapsed": true
   },
   "outputs": [],
   "source": [
    "df.groupby(by=\"column\").mean() #le tenés que pedir una operación al group by, dame la media de cada borough en cada grupo"
   ]
  },
  {
   "cell_type": "code",
   "execution_count": null,
   "metadata": {
    "collapsed": true
   },
   "outputs": [],
   "source": [
    "# converting  the relevant columns to numeric values and throwing away spurious entries\n",
    "df['column'] = pd.to_numeric(df['column'], errors='corece')"
   ]
  },
  {
   "cell_type": "code",
   "execution_count": null,
   "metadata": {
    "collapsed": true
   },
   "outputs": [],
   "source": [
    "#the pd.to_numeric function does the same in a single line!!\n",
    "nrg['Reported Property Floor Area (Building(s)) (ft²)'] = \\\n",
    "            pd.to_numeric(nrg['Reported Property Floor Area (Building(s)) (ft²)'], \n",
    "                          errors='coerce').astype(float)\n",
    "#the line below checks that the conversion worked. should be removed in delivery ready ipynb\n",
    "#nrg['Reported Property Floor Area (Building(s)) (ft²)'].astype(float)"
   ]
  },
  {
   "cell_type": "code",
   "execution_count": null,
   "metadata": {
    "collapsed": true
   },
   "outputs": [],
   "source": [
    "##check that your conversion worked: e.g.\n",
    "print (\"number of missing energy observations:\", np.isnan(nrg['Site EUI(kBtu/ft2)'].astype(float)).sum())"
   ]
  },
  {
   "cell_type": "code",
   "execution_count": null,
   "metadata": {
    "collapsed": true
   },
   "outputs": [],
   "source": [
    "nrg.rename(columns={'NYC Borough, Block, and Lot (BBL)':'BBL', \n",
    "                    'Reported Property Floor Area (Building(s)) (ft²)':'Reported Property Floor Area'}, \n",
    "           inplace=True)\n",
    "nrg.head()"
   ]
  },
  {
   "cell_type": "code",
   "execution_count": null,
   "metadata": {
    "collapsed": true
   },
   "outputs": [],
   "source": [
    "#Dropping unncesary columns\n",
    "df=df[[\"column1\",\"column10\"]]\n"
   ]
  },
  {
   "cell_type": "code",
   "execution_count": null,
   "metadata": {
    "collapsed": false
   },
   "outputs": [],
   "source": [
    "#transforming to datetime\n",
    "df_sm['DateSampled'] = pd.to_datetime(df_sm['Date Sampled'])\n",
    "\n",
    "#to check conversion was succesfull\n",
    "df_sm.DateSampled.describe()"
   ]
  },
  {
   "cell_type": "code",
   "execution_count": null,
   "metadata": {
    "collapsed": true
   },
   "outputs": [],
   "source": [
    "#Así convertimos una variable en float, suponiendo que no tiene valores raros.\n",
    "data[\"nombrevariable\"] = data[\"nombrevariable\"].astype(float)\n",
    "\n",
    "#Así le damos nuevos valores a los que ya estaban en una columna, cambiamos por ejemplo \"Female\" por 2.\n",
    "data.gender = data.gender.replace(2, \"Female\")\n",
    "\n",
    "# Merge basados en una columna que tiene el mismo nombre en ambas bases de datos.\n",
    "df = pd.merge(data, nrg, on=\"BBL\")\n",
    "\n",
    "#Merge utilizando columnas con mismo significado pero diferente nombre\n",
    "data = pd.merge(df, df1, right_on=\"Country Name\", left_on=\"Country\")\n",
    "\n",
    "#TENER CUIDADO SI QUEREMOS HACER UN INNER O UN OUTER MERGE.\n",
    "\n",
    "#Concatenate hacia abajo. Es decir poniendo una base de datos abajo de la otra.\n",
    "df1.columns = df.columns\n",
    "data = pd.concat([df, df1])\n",
    "\n",
    "#Concatenar de modo horizontal, es decir agregando una nueva columna a la base de datos.\n",
    "data = pd.concat([time311, timeNYPD], axis = 1, join = \"outer\")\n"
   ]
  },
  {
   "cell_type": "code",
   "execution_count": null,
   "metadata": {
    "collapsed": true
   },
   "outputs": [],
   "source": [
    "#merging columns\n",
    "df = df_pop.merge(df_gdp, right_on=\"Country Name\", left_on=\"Country Name\")\n",
    "df = df.merge(df_ms,  right_on=\"Country\", left_on=\"Country Name\")\n",
    "df = df.merge(df_mur,  right_on=\"Country/Territory\", left_on=\"Country Name\")"
   ]
  },
  {
   "cell_type": "code",
   "execution_count": null,
   "metadata": {
    "collapsed": true
   },
   "outputs": [],
   "source": [
    "#Split by hour\n",
    "cb2015['dayride'] = (cb2015.starthour.values > 6) & (cb2015.starthour.values < 6)"
   ]
  },
  {
   "cell_type": "markdown",
   "metadata": {},
   "source": [
    "### Advanced data cleaning"
   ]
  },
  {
   "cell_type": "code",
   "execution_count": null,
   "metadata": {
    "collapsed": true
   },
   "outputs": [],
   "source": [
    "# Generar función para crear nueva columna. Ejemplo uno para datetime. Ejemplo dos para locación\n",
    "def time_checker(t):\n",
    "    if t > nightstart:\n",
    "        return 'Night Rider'\n",
    "    if t < nightend:\n",
    "        return 'Night Rider'\n",
    "    else:\n",
    "        return 'Day Rider'\n",
    "\n",
    "df['typee'] = df['time'].apply(lambda x: time_checker(x))\n",
    "\n",
    "\n",
    "def borough(xy):\n",
    "    x,y = xy\n",
    "    if (x>40.698215)&(y<-73.970755):\n",
    "        return \"Manhattan\"        \n",
    "    else:\n",
    "        return \"Brooklyn\"\n",
    "    \n",
    "data[\"borough\"] = data[[\"start station latitude\",\"start station longitude\"]].apply(borough, axis=1)"
   ]
  },
  {
   "cell_type": "code",
   "execution_count": null,
   "metadata": {
    "collapsed": true
   },
   "outputs": [],
   "source": [
    "#defines a function that to place statin in BL or M based on 2 points\n",
    "\n",
    "x1 = (40.738102, -73.962194)\n",
    "x0 = (40.694456, -74.012116)\n",
    "\n",
    "def manORbk(coords):\n",
    "    ''' defined points in BK or Manhattan based on position w respect to a single boundary line\n",
    "    Arguments:\n",
    "    coords: (lat, lon) tuple or 1D array of size 2, coordinates in degrees\n",
    "    returns: character \"M\" or \"B\" for Manhattan and Brooklyn respectively\n",
    "    '''\n",
    "    lat,lon = coords\n",
    "    #print (lat, lon)\n",
    "    if lat >= x1[0] :\n",
    "        #print (1)\n",
    "        return 'M'\n",
    "    elif lat <= x0[0] :\n",
    "        #print (2)\n",
    "        return 'B'\n",
    "    elif lon > 1.143793 * lat -120.558150:\n",
    "        #print (3, 1.143793 * lat -120.558150)\n",
    "        return 'B'\n",
    "    else: \n",
    "        #print (4, 1.143793 * lat -120.558150, lon > 1.143793 * lat -120.558150)\n",
    "        return 'M'"
   ]
  },
  {
   "cell_type": "code",
   "execution_count": null,
   "metadata": {
    "collapsed": true
   },
   "outputs": [],
   "source": [
    "#test function\n",
    "manORbk((40.68807003, -73.98410637))"
   ]
  },
  {
   "cell_type": "code",
   "execution_count": null,
   "metadata": {
    "collapsed": true
   },
   "outputs": [],
   "source": [
    "#this cells passes coordinates to manORbk\n",
    "cb2015['latlon'] = [(lat,lon) for lat, lon in latlon]\n",
    "cb2015['MorBK'] = cb2015['latlon'].apply(manORbk)"
   ]
  },
  {
   "cell_type": "code",
   "execution_count": null,
   "metadata": {
    "collapsed": true
   },
   "outputs": [],
   "source": [
    "#since we are only interested in the stations position, all the duplicates are dropped\n",
    "statsionsDF = cb2015.drop_duplicates(subset=[\"latlon\",\n",
    "                                             \"MorBK\",\n",
    "                                             \"BK\", \"M\"])\n"
   ]
  },
  {
   "cell_type": "markdown",
   "metadata": {},
   "source": [
    "### Exploring Dataa"
   ]
  },
  {
   "cell_type": "code",
   "execution_count": null,
   "metadata": {
    "collapsed": true
   },
   "outputs": [],
   "source": []
  },
  {
   "cell_type": "code",
   "execution_count": null,
   "metadata": {
    "collapsed": true
   },
   "outputs": [],
   "source": [
    "# Para ver las primeras filas de la base de datos\n",
    "data.head()\n",
    "\n",
    "# Para ver todas las columnas (variables)\n",
    "data.columns\n",
    "\n",
    "# Para ver la forma\n",
    "data.shape\n",
    "\n",
    "# Para una breve descripción de media, desviación estandar, mínimo, máximo, etc.\n",
    "data.describe()\n",
    "\n",
    "#También se pueden conseguir por separado.\n",
    "data[\"LotArea\"].std()\n",
    "data[\"LotArea\"].mean()\n",
    "\n",
    "#Usualmente esto se acompaña de un scatterplot, pero será el primero de los que veamos en la sección PLOTTING.\n",
    "\n",
    "#scatter matrix\n",
    "sfig = scatter_matrix (nrg, s=300, figsize=(10, 10), diagonal='kde')"
   ]
  },
  {
   "cell_type": "code",
   "execution_count": null,
   "metadata": {
    "collapsed": true
   },
   "outputs": [],
   "source": [
    "#checking outliers\n",
    "df_pop=pd.read_csv(\"API_SP.POP.TOTL_DS2_en_csv_v2.csv\", skiprows=(0,2)) #Population, we are skipping rows because the first two \n",
    "                                                                        #don't have relevant information"
   ]
  },
  {
   "cell_type": "markdown",
   "metadata": {},
   "source": [
    "#### Plotting Histograms by date and two groups (HW4)"
   ]
  },
  {
   "cell_type": "code",
   "execution_count": null,
   "metadata": {
    "collapsed": true
   },
   "outputs": [],
   "source": [
    "# plot daytime trip duration histogram in 100 bins\n",
    "# plot 0% to 95% percentile because I expect these distribution to be long tailed and I see 43,000 hour trips above\n",
    "pc = np.percentile(cb2015.tripduration, [0, 99])\n",
    "bins = np.linspace(int(pc[0]), int(pc[1] / 100) * 100, 100)\n",
    "dayax = cb2015[cb2015.dayride].tripduration.groupby(\n",
    "    pd.cut(cb2015[cb2015.dayride].tripduration, bins)).\\\n",
    "                    agg([count_nonzero]).plot(kind='bar', legend=False)\n",
    "dayax.set_title(\"Jan and June 2015 rides\")\n",
    "# plot nighttime trip duration histogram\n",
    "cb2015[~cb2015.dayride].tripduration.groupby(\n",
    "    pd.cut(cb2015[~cb2015.dayride].tripduration, bins)).\\\n",
    "                    agg([count_nonzero]).plot(kind='bar', legend=False, ax=dayax, \n",
    "                                             color='IndianRed')\n",
    "xlab = dayax.get_xticklabels()\n",
    "dayax.set_xticklabels(['' if float(i)%10 > 0 else xlab[i] for i in range(len(xlab))]);\n",
    "dayax.set_xlabel(\" trip duration (minutes)\");\n",
    "\n"
   ]
  },
  {
   "cell_type": "markdown",
   "metadata": {},
   "source": [
    "#También graficó cómo hacer las funciones acumuladas en ese mismo homework, estaba bueno. También plotea la diferencia."
   ]
  },
  {
   "cell_type": "code",
   "execution_count": null,
   "metadata": {
    "collapsed": true
   },
   "outputs": [],
   "source": []
  },
  {
   "cell_type": "code",
   "execution_count": null,
   "metadata": {
    "collapsed": true
   },
   "outputs": [],
   "source": [
    "#plotting with error bars\n",
    "fig, ax = plt.subplots()\n",
    "\n",
    "scatter = ax.scatter(df_.gdp * 1e-12, df_['Number of mass shootings'])\n",
    "ax.errorbar(df_.gdp * 1e-12, df_['Number of mass shootings'], \n",
    "            yerr = np.sqrt(df_['Number of mass shootings'] * 1.0), fmt = '.')\n",
    "ax.set_xlabel(\"GDP (in tillion $)\")\n",
    "ax.set_ylabel(\"Number of mass shooting per person\")\n",
    "ax.set_ylim();"
   ]
  },
  {
   "cell_type": "code",
   "execution_count": null,
   "metadata": {
    "collapsed": true
   },
   "outputs": [],
   "source": [
    "#plotting with different color\n",
    "ax.scatter(df_[df_[\"Country\"] == 'United States'][u'Average total all civilian firearms'] / \n",
    "           df_[df_[\"Country\"] == 'United States']['pop'], \n",
    "                     df_[df_[\"Country\"] == 'United States']['Number of homicides by firearm'] / \n",
    "           df_[df_[\"Country\"] == 'United States']['pop'] * 1e5, color='r', alpha=1)"
   ]
  },
  {
   "cell_type": "markdown",
   "metadata": {},
   "source": [
    "### Fitting distributions"
   ]
  },
  {
   "cell_type": "code",
   "execution_count": 83,
   "metadata": {
    "collapsed": false,
    "scrolled": true
   },
   "outputs": [
    {
     "data": {
      "text/plain": [
       "<matplotlib.legend.Legend at 0x7fe4b01f3790>"
      ]
     },
     "execution_count": 83,
     "metadata": {},
     "output_type": "execute_result"
    },
    {
     "data": {
      "image/png": "[encoded data removed]",
      "text/plain": [
       "<matplotlib.figure.Figure at 0x7fe4b0646d50>"
      ]
     },
     "metadata": {},
     "output_type": "display_data"
    }
   ],
   "source": [
    "#Creating an idealized distribution of a poisson with 69 lambda\n",
    "from scipy.stats import poisson\n",
    "\n",
    "fig, ax = plt.subplots(1, 1)\n",
    "mu=69\n",
    "\n",
    "x = np.arange(poisson.ppf(0.01, mu), poisson.ppf(0.99, mu))\n",
    "ax.plot(x, poisson.pmf(x, mu), 'r', color=\"red\",ms=8, label='Fitted Poisson') #this makes a line\n",
    "ax.legend()\n",
    "#ax.vlines(x, 0, poisson.pmf(x, mu), colors='black', lw=5, alpha=0.5); #this makes bins\n"
   ]
  },
  {
   "cell_type": "code",
   "execution_count": 101,
   "metadata": {
    "collapsed": false
   },
   "outputs": [
    {
     "data": {
      "image/png": "[encoded data removed]",
      "text/plain": [
       "<matplotlib.figure.Figure at 0x7fe4b060ca10>"
      ]
     },
     "metadata": {},
     "output_type": "display_data"
    }
   ],
   "source": [
    "#Creating an idealized distribution of Normal distribution\n",
    "from scipy.stats import norm\n",
    "\n",
    "# Generate some data for this demonstration.\n",
    "#data = norm.rvs(0, 1, size=100)\n",
    "data=2*random.randn(100)+10\n",
    "\n",
    "# Fit a normal distribution to the data:\n",
    "mu, std = norm.fit(data)\n",
    "\n",
    "\n",
    "# Plot the histogram.\n",
    "#plt.hist(data, bins=25, normed=True, alpha=0.6, color='g')\n",
    "\n",
    "#this is to acquiere the limits of the original histogram\n",
    "#xmin, xmax = plt.xlim()\n",
    "\n",
    "# Plot the PDF.\n",
    "x = np.linspace(data.min(),data.max(), 100) #this should be adapted to the scale fitted\n",
    "p = norm.pdf(x, mu, std)\n",
    "plt.plot(x, p, 'k', linewidth=2,label=\"Fitted Normal\",color=\"red\")\n",
    "title = \"Fit results: mu = %.2f,  std = %.2f\" % (mu, std)\n",
    "plt.legend()\n",
    "plt.title(title)\n",
    "\n",
    "plt.show()"
   ]
  },
  {
   "cell_type": "markdown",
   "metadata": {},
   "source": [
    "En HW5_1 hay más maneras"
   ]
  },
  {
   "cell_type": "markdown",
   "metadata": {},
   "source": [
    "### Statistical Test (HW4)"
   ]
  },
  {
   "cell_type": "markdown",
   "metadata": {},
   "source": [
    "KS and AD to compare goodness of fit\n",
    "#Remember they must have similar mean and SD"
   ]
  },
  {
   "cell_type": "code",
   "execution_count": null,
   "metadata": {
    "collapsed": true
   },
   "outputs": [],
   "source": [
    "print (\"normal on normal\", scipy.stats.kstest(dist_n,'norm'))\n",
    "print (\"normal on normal\", scipy.stats.anderson(dist_n, dist='norm'))\n",
    "print (\"\") "
   ]
  },
  {
   "cell_type": "code",
   "execution_count": null,
   "metadata": {
    "collapsed": true
   },
   "outputs": [],
   "source": [
    "# Comparing sample and population\n",
    "z = (df - df.mean()) / (timesOldStd / np.sqrt(len(timesNew)))\n",
    "print(\"The Z statistics is Z = {0:.2f}\".format(Z))"
   ]
  },
  {
   "cell_type": "code",
   "execution_count": null,
   "metadata": {
    "collapsed": true
   },
   "outputs": [],
   "source": [
    "def chisq(model, data):\n",
    "    errors = np.sqrt(data)\n",
    "    return ((model - data)**2 / errors**2).sum()\n",
    "print (chisq(model, hsbins[0]))"
   ]
  },
  {
   "cell_type": "markdown",
   "metadata": {},
   "source": [
    "#### KS tests to compare 2 samples\n",
    "\n",
    "http://docs.scipy.org/doc/scipy-0.15.1/reference/generated/scipy.stats.ks_2samp.html\n",
    "\n",
    "Null: the two distribution come from the same parent distribution"
   ]
  },
  {
   "cell_type": "code",
   "execution_count": null,
   "metadata": {
    "collapsed": true
   },
   "outputs": [],
   "source": [
    "ks = scipy.stats.ks_2samp(cb2015[cb2015.dayride].tripduration, cb2015[~cb2015.dayride].tripduration)\n",
    "print (ks)"
   ]
  },
  {
   "cell_type": "code",
   "execution_count": null,
   "metadata": {
    "collapsed": true
   },
   "outputs": [],
   "source": [
    "scipy.stats.pearsonr"
   ]
  },
  {
   "cell_type": "markdown",
   "metadata": {},
   "source": [
    "Note on the KS test: the KS test, and generally any test of Null Hypothesis Statistical Testing, has higher power for larger samples. With a million observations, 100s of thousands in each sample tiny differences tend to become statistically significant. (The distribution looked different by eye in a cumulative plot in the testig phase, with 1000 fewer samples but the p-value was less significant)"
   ]
  },
  {
   "cell_type": "code",
   "execution_count": null,
   "metadata": {
    "collapsed": true
   },
   "outputs": [],
   "source": []
  },
  {
   "cell_type": "markdown",
   "metadata": {},
   "source": [
    "#### Pearson tests to compare 2 samples\n",
    "\n",
    "This checks for correlation between the two samples. Note that this is not a rigorous test, unlike the KS test, and according to scipy.stats.pearsonr _\"The p-values are not entirely reliable but are probably reasonable for datasets larger than 500 or so.\"_\n",
    "\n",
    "\n",
    "Note that the data should be sorted and also the two samples need to have the same size.\n",
    "For this:"
   ]
  },
  {
   "cell_type": "code",
   "execution_count": null,
   "metadata": {
    "collapsed": true
   },
   "outputs": [],
   "source": [
    "#sorting and sampling day toa smaller size\n",
    "df1=df1.sample(len(df2)).sort_values('column')\n",
    "df2=df2.sort_values('column')\n",
    "\n",
    "scipy.stats.pearsonr(df1.sample(len(df2)).sort_values('column'),df2.sort_values('column'))"
   ]
  },
  {
   "cell_type": "code",
   "execution_count": null,
   "metadata": {
    "collapsed": true
   },
   "outputs": [],
   "source": [
    "#As FB did it:\n",
    "scipy.stats.pearsonr(np.sort(dfday.tripduration), np.sort(cb2015[~cb2015.dayride].tripduration))"
   ]
  },
  {
   "cell_type": "markdown",
   "metadata": {},
   "source": [
    "### Spearman tests to compare 2 samples"
   ]
  },
  {
   "cell_type": "code",
   "execution_count": null,
   "metadata": {
    "collapsed": true
   },
   "outputs": [],
   "source": [
    "scipy.stats.spearmanr(np.sort(dfday.tripduration), np.sort(cb2015[~cb2015.dayride].tripduration))\n",
    "scipy.stats.pearsonr(df1,df2)"
   ]
  },
  {
   "cell_type": "markdown",
   "metadata": {},
   "source": [
    "This test is often used to assess if sample are generated by the same distribution but in fact it tests if the samples are generated by correlated distributions. As a test to assess independence it is not powerful, as even a small amount of correlation would raise the p-value"
   ]
  },
  {
   "cell_type": "markdown",
   "metadata": {},
   "source": [
    "Not Reject NULL:\n",
    "\"The Null hypothesis that the two samples are generated from uncorrelated distributions cannot be rejected (alpha=0.05)\"\n",
    "\n",
    "Reject NULL:\n",
    "The Null hypothesis that the two samples are generated from uncorrelated distributions is rejected (alpha=0.05)\n"
   ]
  },
  {
   "cell_type": "markdown",
   "metadata": {},
   "source": [
    "### Modeling"
   ]
  },
  {
   "cell_type": "code",
   "execution_count": null,
   "metadata": {
    "collapsed": true
   },
   "outputs": [],
   "source": [
    "import statsmodels.formula.api as st\n",
    "import statsmodels as sm\n",
    "import seaborn as sns\n",
    "import statsmodels.graphics.regressionplots"
   ]
  },
  {
   "cell_type": "code",
   "execution_count": null,
   "metadata": {
    "collapsed": true
   },
   "outputs": [],
   "source": [
    "## ADS Style\n",
    "\n",
    "#Importing all the package needed for the answers.\n",
    "import pandas as pd\n",
    "import numpy as np\n",
    "import statsmodels.formula.api as smf\n",
    "import matplotlib.pylab as plt\n",
    "%matplotlib inline\n",
    "\n",
    "\n",
    "#With the statisical package we build a linear model\n",
    "lm = smf.ols(formula=\"AssessTot ~ LotArea\", data = data_4).fit()\n",
    "lm.summary()\n",
    "\n",
    "\n",
    "#Visualizing the model \n",
    "\n",
    "plt.figure()\n",
    "plt.scatter(\"LotArea\",\"AssessTot\",data=data_4)\n",
    "plt.plot(data_4[\"LotArea\"],data_4.pred,c=\"r\")\n",
    "plt.xlabel('Total area of the tax lot')\n",
    "plt.ylabel('Assessed total value')\n",
    "plt.title(\"Total Asset vs Lot Area\")\n",
    "plt.show()\n",
    "\n",
    "#[data_4[\"LotArea\"]<20000]"
   ]
  },
  {
   "cell_type": "code",
   "execution_count": null,
   "metadata": {
    "collapsed": true
   },
   "outputs": [],
   "source": [
    "W1 = model.params[1]\n",
    "W2 = model.params[0] \n",
    "\n",
    "wmodel2 = model2.params[0]\n",
    "\n",
    "plt.scatter(\"firearmspp\", \"masshootingpp\", data = df,label=\"\")\n",
    "plt.plot(df[\"firearmspp\"], W1*df[\"firearmspp\"] + W2, c=\"r\",label=\"OLS fit\")\n",
    "plt.plot(df[\"firearmspp\"], wmodel2*df[\"firearmspp\"], c=\"g\",label=\"WLS fit\")\n",
    "\n",
    "plt.xlabel(\"Fire arms per person\")\n",
    "plt.ylabel(\"Mass Shootings per million people\")\n",
    "plt.legend()\n",
    "plt.title(\"Mass shootings per person in function of Fire arms per person (OLS)\", weight='bold', fontsize=14);"
   ]
  },
  {
   "cell_type": "code",
   "execution_count": null,
   "metadata": {
    "collapsed": true
   },
   "outputs": [],
   "source": [
    "# Plot with confidence intervals\n",
    "sns.regplot(x=df.firearmspp, y=df.masshootingpp, data=df)\n",
    "plt.xlabel(\"Fire arms per person\")\n",
    "plt.ylabel(\"Mass Shootings per million people\")\n",
    "plt.title(\"Mass shootings per person in function of Fire arms per person (OLS)\", weight='bold', fontsize=14);"
   ]
  },
  {
   "cell_type": "code",
   "execution_count": null,
   "metadata": {
    "collapsed": true
   },
   "outputs": [],
   "source": [
    "#Plot for assesing leverage\n",
    "import statsmodels.api as sm\n",
    "sm.graphics.influence_plot(modelOLS, alpha  = 0.05, criterion=\"cooks\");"
   ]
  },
  {
   "cell_type": "code",
   "execution_count": null,
   "metadata": {
    "collapsed": true
   },
   "outputs": [],
   "source": [
    "#Definint chi squeare\n",
    "\n",
    "def chi2(data, model, errors = None):\n",
    "    '''Calculates the chi sq given data, model and errors\n",
    "    Arguments:\n",
    "    data: series of datapoints (endogenous variable)\n",
    "    model: series of predicted values corresponding to the observed data\n",
    "    errors: serie of errors (optional). \n",
    "    If errors are not passes all errors are set to 1\n",
    "    '''\n",
    "    if errors is None:\n",
    "        errors = np.ones_like(data)\n",
    "    if data.shape == model.shape and data.shape == errors.shape:\n",
    "        return (((data - model)**2) / errors**2).sum()\n",
    "    else: \n",
    "        print ('''ERROR:\n",
    "must pass arrays of identical dimension for data, model and (optional) error)''')\n",
    "    return -1"
   ]
  },
  {
   "cell_type": "code",
   "execution_count": null,
   "metadata": {
    "collapsed": true
   },
   "outputs": [],
   "source": [
    "\n",
    "#Compare the fit with chi square:\n",
    "\n",
    "\n",
    "#degrees of freedom: number of observations - number of model parameters\n",
    "# note: these are reported as dof of the residuals in the statsmodels fit summary, but jsut to make sure let's calculate them\n",
    "dof = min(len(bblnrgdataCut.UnitsTotal) - np.isnan(bblnrgdataCut.UnitsTotal).sum(), \n",
    "         len(bblnrgdataCut.nrg) - np.isnan(bblnrgdataCut.nrg).sum()) - 2\n",
    "print (\"degrees of freedom:\" , dof)\n",
    "\n",
    "\n",
    "\n"
   ]
  },
  {
   "cell_type": "code",
   "execution_count": null,
   "metadata": {
    "collapsed": true
   },
   "outputs": [],
   "source": [
    "print (\"Units vs Energy residuals (no errors include): %.2f\"%\\\n",
    "       (chi2(np.log10(bblnrgdataCut.UnitsTotal), linmodel_0.predict()) / float(dof)))\n",
    "\n",
    "print (\"Units vs Energy chi square per DOF w IV error only: %.2f\"%\\\n",
    "       (chi2(np.log10(bblnrgdataCut.UnitsTotal), linmodel_0.predict(), \n",
    "            errors = bblnrgdataCut.errorsunits) / dof))\n",
    "\n",
    "print (\"Units vs Energy chi square per DOF : %.2f\"%\\\n",
    "       (chi2(np.log10(bblnrgdataCut.UnitsTotal), linmodel_0.predict(), \n",
    "            errors = np.sqrt(bblnrgdataCut.errorsnrg**2 + bblnrgdataCut.errorsunits**2))  / dof))"
   ]
  },
  {
   "cell_type": "code",
   "execution_count": null,
   "metadata": {
    "collapsed": true
   },
   "outputs": [],
   "source": [
    "#building a cuadratic fit using number of units as independent variable\n",
    "import statsmodels.formula.api as smf\n",
    "\n",
    "cuadmodel=smf.ols(formula=\"log10(y)~I(log10(x)**2)+log10(x)\",data=bblnrgdata_cut).fit()\n",
    "cuadmodel.summary()"
   ]
  },
  {
   "cell_type": "code",
   "execution_count": null,
   "metadata": {
    "collapsed": true
   },
   "outputs": [],
   "source": [
    "#building a cuadratic fit using number of units as independent variable\n",
    "import statsmodels.formula.api as smf\n",
    "\n",
    "cuadmodel=smf.ols(formula=\"log10(y)~I(log10(x)**2)+log10(x)\",data=bblnrgdata_cut).fit()\n",
    "cuadmodel.summary()"
   ]
  },
  {
   "cell_type": "code",
   "execution_count": null,
   "metadata": {
    "collapsed": true
   },
   "outputs": [],
   "source": [
    "#using LR to compare both models\n",
    "print (\"LR : \", -2 * (-linmodel.llf - (-cuadmodel.llf)))\n",
    "print (\"LR from statsmodels:\", cuadmodel.compare_lr_test(linmodel))"
   ]
  }
 ],
 "metadata": {
  "kernelspec": {
   "display_name": "PUI2016_Python2",
   "language": "python",
   "name": "pui2016_python2"
  },
  "language_info": {
   "codemirror_mode": {
    "name": "ipython",
    "version": 2
   },
   "file_extension": ".py",
   "mimetype": "text/x-python",
   "name": "python",
   "nbconvert_exporter": "python",
   "pygments_lexer": "ipython2",
   "version": "2.7.12"
  }
 },
 "nbformat": 4,
 "nbformat_minor": 0
}
