{
 "cells": [
  {
   "cell_type": "markdown",
   "metadata": {},
   "source": [
    "\n",
    "\n",
    "| **Statistical Analyses\t|   IV type(s)  | IV(s) |  DV type(s)  |  DV(s)  |  Control Var type | Control Var | Question to be answered | _H0_ | alpha | link to paper **| \n",
    "|:----------:|:----------|:------------|:-------------|:-------------|:------------|:------------- |:------------------|:----:|:-------:|:-------|\n",
    "| **Anova** | categorical | 1, pre treatment with cocaine or not| numerical discrete | 1, amounts of times the bees crosses a line | categorical (sham group) | |\tDo bees with pre treatment with cocaine show less significantly less decrease in motor activity than control group (they are trying to assess if there is short term tolerance to cocaine in bees) | Locomotor activity of bees with pre-treatment with cocain  >= Locomotor activity of bees without pre-treatment with cocain  | 0.0001 | [Cocaine Tolerance in Honey Bees](http://journals.plos.org/plosone/article?id=10.1371/journal.pone.0064920#pone-0064920-g001) |\n",
    "  |||||||||\n",
    "| **Correlation** | Numerical discrete | 1, IKEA stores per 10 Million Population | Numerical discrete | 1, Nobel Laureates per 10 million Population |Gross Domestic Product, thousands of dollars per year per capita   | Numerical continous| Does chocolate consumption per capita influence the the amount of Nobel Laureates a country has  | There is a significant correlation between Chocolate consumption and the amount of Nobel Laureates and not with other variables | 0.0001 | [Does Chocolate Consumption Really Boost Nobel Award Chances? The Peril of Over-Interpreting Correlations in Health Studies](http://jn.nutrition.org/content/143/6/931.full) |\n",
    "  |||||||||\n",
    "| **Multi level logistic regression** | Numerical continous | 1, Probability of fall | Categorical | 1 age, 2 gender, 3 osteoporosis, between others | None   | None |Can a fall be predicted based on multiple factors  | There is no relation between the multiple factors and the probability of a fall | 0.001, 0.01, 0.05 depending on the factor| [Predicting Falls and When to Intervene in Older People: A Multilevel Logistical Regression Model and Cost Analysis](http://journals.plos.org/plosone/article?id=10.1371/journal.pone.0159365) |\n",
    "  |||||||||\n",
    "  \n"
   ]
  }
 ],
 "metadata": {
  "kernelspec": {
   "display_name": "Python 2",
   "language": "python",
   "name": "python2"
  },
  "language_info": {
   "codemirror_mode": {
    "name": "ipython",
    "version": 2
   },
   "file_extension": ".py",
   "mimetype": "text/x-python",
   "name": "python",
   "nbconvert_exporter": "python",
   "pygments_lexer": "ipython2",
   "version": "2.7.13"
  }
 },
 "nbformat": 4,
 "nbformat_minor": 2
}
