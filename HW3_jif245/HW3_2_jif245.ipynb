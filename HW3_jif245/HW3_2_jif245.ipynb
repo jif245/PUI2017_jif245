{
 "cells": [
  {
   "cell_type": "code",
   "execution_count": 2,
   "metadata": {
    "collapsed": false
   },
   "outputs": [
    {
     "name": "stdout",
     "output_type": "stream",
     "text": [
      "Populating the interactive namespace from numpy and matplotlib\n"
     ]
    }
   ],
   "source": [
    "import pandas as pd\n",
    "import numpy as np\n",
    "import matplotlib.pyplot as plt\n",
    "import pylab as pl\n",
    "import os\n",
    "\n",
    "\n",
    "%pylab inline\n",
    "#import datetime\n",
    "#from datetime import datetime\n",
    "#import matplotlib.dates as mdates\n"
   ]
  },
  {
   "cell_type": "markdown",
   "metadata": {},
   "source": [
    "### Idea:\n",
    "Male's and female's trip duration times are different.\n",
    "\n",
    "To test this idea, the data for the month of July of 2017 will be used. \n",
    "The results of the test will be applicable to this month only. \n",
    "Also, since the data may have dispersion and outliers, only the trips last 45 minutes or less would be considered (also, 45 minutes is the allowable time for city bike users with a year pass). \n",
    "\n",
    "### Testable Hypothesis:\n",
    "Male's and female's average trip time duration are significant different.\n",
    "\n",
    "### Null Hypothesis :\n",
    "Male's and female's average trip time duration are equal.\n",
    "\n",
    "The test will be conducted with an alpha=0.05\n",
    "\n",
    "H0: Triptime(Female)=Triptime(Male)\n",
    "H1: Triptime(Female)<>Triptime(Male)\n"
   ]
  },
  {
   "cell_type": "code",
   "execution_count": 4,
   "metadata": {
    "collapsed": false
   },
   "outputs": [],
   "source": [
    "#Getting the data from url \n",
    "#A file will be downloaded to the current user folder and open directly from there. \n",
    "\n",
    "!wget -o - \"https://s3.amazonaws.com/tripdata/JC-201707-citibike-tripdata.csv.zip\"\n",
    "\n",
    "df=pd.read_csv(\"JC-201707-citibike-tripdata.csv.zip\")\n"
   ]
  },
  {
   "cell_type": "code",
   "execution_count": null,
   "metadata": {
    "collapsed": true
   },
   "outputs": [],
   "source": [
    "#Here we visualize the first rows of the data set\n",
    "df.head()\n"
   ]
  },
  {
   "cell_type": "code",
   "execution_count": 24,
   "metadata": {
    "collapsed": false
   },
   "outputs": [
    {
     "data": {
      "text/html": [
       "<div>\n",
       "<table border=\"1\" class=\"dataframe\">\n",
       "  <thead>\n",
       "    <tr style=\"text-align: right;\">\n",
       "      <th></th>\n",
       "      <th>tripduration</th>\n",
       "      <th>gender</th>\n",
       "    </tr>\n",
       "  </thead>\n",
       "  <tbody>\n",
       "    <tr>\n",
       "      <th>0</th>\n",
       "      <td>340</td>\n",
       "      <td>2</td>\n",
       "    </tr>\n",
       "    <tr>\n",
       "      <th>1</th>\n",
       "      <td>439</td>\n",
       "      <td>1</td>\n",
       "    </tr>\n",
       "    <tr>\n",
       "      <th>2</th>\n",
       "      <td>186</td>\n",
       "      <td>1</td>\n",
       "    </tr>\n",
       "    <tr>\n",
       "      <th>3</th>\n",
       "      <td>442</td>\n",
       "      <td>1</td>\n",
       "    </tr>\n",
       "    <tr>\n",
       "      <th>4</th>\n",
       "      <td>170</td>\n",
       "      <td>1</td>\n",
       "    </tr>\n",
       "  </tbody>\n",
       "</table>\n",
       "</div>"
      ],
      "text/plain": [
       "   tripduration  gender\n",
       "0           340       2\n",
       "1           439       1\n",
       "2           186       1\n",
       "3           442       1\n",
       "4           170       1"
      ]
     },
     "execution_count": 24,
     "metadata": {},
     "output_type": "execute_result"
    }
   ],
   "source": [
    "#Since we are only interested in gender and tripduration, we create a new df, (df_r) that contains only the variables of interest.\n",
    "df_r=df[[ 'tripduration', \"gender\"]]\n",
    "\n",
    "df_r.head()\n"
   ]
  },
  {
   "cell_type": "code",
   "execution_count": 25,
   "metadata": {
    "collapsed": false
   },
   "outputs": [
    {
     "data": {
      "image/png": "[encoded data removed]",
      "text/plain": [
       "<matplotlib.figure.Figure at 0x7f684ff54e90>"
      ]
     },
     "metadata": {},
     "output_type": "display_data"
    }
   ],
   "source": [
    "#here we do a visualization of the original database \n",
    "df_r.boxplot(column=\"tripduration\",by='gender')\n",
    "\n",
    "xlabel(\"Gender\")\n",
    "ylabel(\"Trip duration (seconds)\")\n",
    "title(\"Fig 1. Boxplot trip Duration by gender\")\n",
    "suptitle(\"\");"
   ]
  },
  {
   "cell_type": "markdown",
   "metadata": {},
   "source": [
    "Figure 1. \n",
    "We can see that there are lot of outliers.\n",
    "We proceed to strip the trip durations greater than 45 minutes."
   ]
  },
  {
   "cell_type": "code",
   "execution_count": 26,
   "metadata": {
    "collapsed": false
   },
   "outputs": [
    {
     "data": {
      "image/png": "[encoded data removed]",
      "text/plain": [
       "<matplotlib.figure.Figure at 0x7f68501665d0>"
      ]
     },
     "metadata": {},
     "output_type": "display_data"
    }
   ],
   "source": [
    "#Here we strip the durations greater than 45 minutes\n",
    "#We also remove variables of the \"unkown\" gender\n",
    "\n",
    "df_r=df_r[df_r[\"tripduration\"]<=2700] #this removes the times greater than 2700 (45 minutes) \n",
    "\n",
    "df_g=df_r[df_r[\"gender\"]>0] #we create a new data frame with only the values for gender of 1 (male) and 2 (female)\n",
    "\n",
    "\n",
    "df_g.boxplot(column=\"tripduration\",by='gender')\n",
    "xlabel(\"Gender. (1: Male; 2: Female)\")\n",
    "ylabel(\"Trip duration (seconds)\")\n",
    "title(\"Fig 2. Boxplot. Trip duration (s) for travel times less than 45 minutes\")\n",
    "suptitle(\"\");\n"
   ]
  },
  {
   "cell_type": "markdown",
   "metadata": {},
   "source": [
    "Figure 2. There're still a lot outliers, but at least is visible"
   ]
  },
  {
   "cell_type": "code",
   "execution_count": 36,
   "metadata": {
    "collapsed": false
   },
   "outputs": [
    {
     "data": {
      "image/png": "[encoded data removed]",
      "text/plain": [
       "<matplotlib.figure.Figure at 0x7f68a92dccd0>"
      ]
     },
     "metadata": {},
     "output_type": "display_data"
    }
   ],
   "source": [
    "#Another type of visualization. \n",
    "hist(df_r[df_r[\"gender\"]==1][\"tripduration\"],bins = 20, label = \"Male\", color=\"blue\")\n",
    "hist(df_r[df_r[\"gender\"]==2][\"tripduration\"], bins = 20, label = \"Female\", color=\"pink\")\n",
    "\n",
    "plt.xlabel(\"Trip Duration in seconds\", fontsize=12)\n",
    "plt.ylabel(\"Amount of trips\", fontsize=12)\n",
    "plt.title(\"Fig 3. Histogram. Trip Duration by gender\", fontsize=14)\n",
    "plt.legend(bbox_to_anchor=(1.05, 1), loc=2);"
   ]
  }
 ],
 "metadata": {
  "kernelspec": {
   "display_name": "PUI2016_Python2",
   "language": "python",
   "name": "pui2016_python2"
  },
  "language_info": {
   "codemirror_mode": {
    "name": "ipython",
    "version": 2
   },
   "file_extension": ".py",
   "mimetype": "text/x-python",
   "name": "python",
   "nbconvert_exporter": "python",
   "pygments_lexer": "ipython2",
   "version": "2.7.12"
  }
 },
 "nbformat": 4,
 "nbformat_minor": 0
}
