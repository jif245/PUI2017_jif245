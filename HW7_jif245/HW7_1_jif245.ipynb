{
 "cells": [
  {
   "cell_type": "code",
   "execution_count": 78,
   "metadata": {},
   "outputs": [
    {
     "name": "stdout",
     "output_type": "stream",
     "text": [
      "Populating the interactive namespace from numpy and matplotlib\n"
     ]
    }
   ],
   "source": [
    "#Loading the packages we ar going to use\n",
    "import pandas as pd\n",
    "import numpy as np\n",
    "import matplotlib.pyplot as plt\n",
    "import pylab as pl\n",
    "from scipy import stats\n",
    "from scipy.stats import median_test\n",
    "%pylab inline\n"
   ]
  },
  {
   "cell_type": "markdown",
   "metadata": {},
   "source": [
    "### Idea:\n",
    "Male's and female's trip duration times are different.\n",
    "\n",
    "To test this idea, the data for the month of July of 2017 will be used. \n",
    "The results of the test will be applicable to this month only. \n",
    "Also, since the data may have dispersion and outliers, only the trips last 45 minutes or less would be considered (also, 45 minutes is the allowable time for city bike users with a year pass). \n",
    "\n",
    "### Testable Hypothesis:\n",
    "Male's and female's average trip time duration are significantly different.\n",
    "\n",
    "### Null Hypothesis :\n",
    "Male's and female's average trip time duration are equal.\n",
    "\n",
    "The tests will be conducted with an alpha=0.05\n",
    "\n",
    "H0: Triptime(Female)=Triptime(Male)\n",
    "\n",
    "H1: Triptime(Female)<>Triptime(Male)\n"
   ]
  },
  {
   "cell_type": "code",
   "execution_count": 2,
   "metadata": {
    "collapsed": true
   },
   "outputs": [],
   "source": [
    "#Getting the data from url \n",
    "df=pd.read_csv(\"https://s3.amazonaws.com/tripdata/JC-201707-citibike-tripdata.csv.zip\")\n"
   ]
  },
  {
   "cell_type": "code",
   "execution_count": 3,
   "metadata": {},
   "outputs": [
    {
     "data": {
      "text/html": [
       "<div>\n",
       "<style>\n",
       "    .dataframe thead tr:only-child th {\n",
       "        text-align: right;\n",
       "    }\n",
       "\n",
       "    .dataframe thead th {\n",
       "        text-align: left;\n",
       "    }\n",
       "\n",
       "    .dataframe tbody tr th {\n",
       "        vertical-align: top;\n",
       "    }\n",
       "</style>\n",
       "<table border=\"1\" class=\"dataframe\">\n",
       "  <thead>\n",
       "    <tr style=\"text-align: right;\">\n",
       "      <th></th>\n",
       "      <th>tripduration</th>\n",
       "      <th>starttime</th>\n",
       "      <th>stoptime</th>\n",
       "      <th>start station id</th>\n",
       "      <th>start station name</th>\n",
       "      <th>start station latitude</th>\n",
       "      <th>start station longitude</th>\n",
       "      <th>end station id</th>\n",
       "      <th>end station name</th>\n",
       "      <th>end station latitude</th>\n",
       "      <th>end station longitude</th>\n",
       "      <th>bikeid</th>\n",
       "      <th>usertype</th>\n",
       "      <th>birth year</th>\n",
       "      <th>gender</th>\n",
       "    </tr>\n",
       "  </thead>\n",
       "  <tbody>\n",
       "    <tr>\n",
       "      <th>0</th>\n",
       "      <td>340</td>\n",
       "      <td>2017-07-01 00:00:08</td>\n",
       "      <td>2017-07-01 00:05:48</td>\n",
       "      <td>3186</td>\n",
       "      <td>Grove St PATH</td>\n",
       "      <td>40.719586</td>\n",
       "      <td>-74.043117</td>\n",
       "      <td>3267</td>\n",
       "      <td>Morris Canal</td>\n",
       "      <td>40.712419</td>\n",
       "      <td>-74.038526</td>\n",
       "      <td>29643</td>\n",
       "      <td>Subscriber</td>\n",
       "      <td>1994.0</td>\n",
       "      <td>2</td>\n",
       "    </tr>\n",
       "    <tr>\n",
       "      <th>1</th>\n",
       "      <td>439</td>\n",
       "      <td>2017-07-01 00:02:35</td>\n",
       "      <td>2017-07-01 00:09:55</td>\n",
       "      <td>3183</td>\n",
       "      <td>Exchange Place</td>\n",
       "      <td>40.716247</td>\n",
       "      <td>-74.033459</td>\n",
       "      <td>3199</td>\n",
       "      <td>Newport Pkwy</td>\n",
       "      <td>40.728745</td>\n",
       "      <td>-74.032108</td>\n",
       "      <td>29585</td>\n",
       "      <td>Subscriber</td>\n",
       "      <td>1980.0</td>\n",
       "      <td>1</td>\n",
       "    </tr>\n",
       "    <tr>\n",
       "      <th>2</th>\n",
       "      <td>186</td>\n",
       "      <td>2017-07-01 00:04:33</td>\n",
       "      <td>2017-07-01 00:07:40</td>\n",
       "      <td>3186</td>\n",
       "      <td>Grove St PATH</td>\n",
       "      <td>40.719586</td>\n",
       "      <td>-74.043117</td>\n",
       "      <td>3270</td>\n",
       "      <td>Jersey &amp; 6th St</td>\n",
       "      <td>40.725289</td>\n",
       "      <td>-74.045572</td>\n",
       "      <td>29219</td>\n",
       "      <td>Subscriber</td>\n",
       "      <td>1984.0</td>\n",
       "      <td>1</td>\n",
       "    </tr>\n",
       "    <tr>\n",
       "      <th>3</th>\n",
       "      <td>442</td>\n",
       "      <td>2017-07-01 00:05:53</td>\n",
       "      <td>2017-07-01 00:13:15</td>\n",
       "      <td>3195</td>\n",
       "      <td>Sip Ave</td>\n",
       "      <td>40.730743</td>\n",
       "      <td>-74.063784</td>\n",
       "      <td>3193</td>\n",
       "      <td>Lincoln Park</td>\n",
       "      <td>40.724605</td>\n",
       "      <td>-74.078406</td>\n",
       "      <td>29497</td>\n",
       "      <td>Subscriber</td>\n",
       "      <td>1969.0</td>\n",
       "      <td>1</td>\n",
       "    </tr>\n",
       "    <tr>\n",
       "      <th>4</th>\n",
       "      <td>170</td>\n",
       "      <td>2017-07-01 00:07:54</td>\n",
       "      <td>2017-07-01 00:10:45</td>\n",
       "      <td>3187</td>\n",
       "      <td>Warren St</td>\n",
       "      <td>40.721124</td>\n",
       "      <td>-74.038051</td>\n",
       "      <td>3186</td>\n",
       "      <td>Grove St PATH</td>\n",
       "      <td>40.719586</td>\n",
       "      <td>-74.043117</td>\n",
       "      <td>29483</td>\n",
       "      <td>Subscriber</td>\n",
       "      <td>1986.0</td>\n",
       "      <td>1</td>\n",
       "    </tr>\n",
       "  </tbody>\n",
       "</table>\n",
       "</div>"
      ],
      "text/plain": [
       "   tripduration            starttime             stoptime  start station id  \\\n",
       "0           340  2017-07-01 00:00:08  2017-07-01 00:05:48              3186   \n",
       "1           439  2017-07-01 00:02:35  2017-07-01 00:09:55              3183   \n",
       "2           186  2017-07-01 00:04:33  2017-07-01 00:07:40              3186   \n",
       "3           442  2017-07-01 00:05:53  2017-07-01 00:13:15              3195   \n",
       "4           170  2017-07-01 00:07:54  2017-07-01 00:10:45              3187   \n",
       "\n",
       "  start station name  start station latitude  start station longitude  \\\n",
       "0      Grove St PATH               40.719586               -74.043117   \n",
       "1     Exchange Place               40.716247               -74.033459   \n",
       "2      Grove St PATH               40.719586               -74.043117   \n",
       "3            Sip Ave               40.730743               -74.063784   \n",
       "4          Warren St               40.721124               -74.038051   \n",
       "\n",
       "   end station id end station name  end station latitude  \\\n",
       "0            3267     Morris Canal             40.712419   \n",
       "1            3199     Newport Pkwy             40.728745   \n",
       "2            3270  Jersey & 6th St             40.725289   \n",
       "3            3193     Lincoln Park             40.724605   \n",
       "4            3186    Grove St PATH             40.719586   \n",
       "\n",
       "   end station longitude  bikeid    usertype  birth year  gender  \n",
       "0             -74.038526   29643  Subscriber      1994.0       2  \n",
       "1             -74.032108   29585  Subscriber      1980.0       1  \n",
       "2             -74.045572   29219  Subscriber      1984.0       1  \n",
       "3             -74.078406   29497  Subscriber      1969.0       1  \n",
       "4             -74.043117   29483  Subscriber      1986.0       1  "
      ]
     },
     "execution_count": 3,
     "metadata": {},
     "output_type": "execute_result"
    }
   ],
   "source": [
    "#Here we visualize the first rows of the data set\n",
    "df.head()\n"
   ]
  },
  {
   "cell_type": "code",
   "execution_count": 4,
   "metadata": {},
   "outputs": [
    {
     "data": {
      "text/html": [
       "<div>\n",
       "<style>\n",
       "    .dataframe thead tr:only-child th {\n",
       "        text-align: right;\n",
       "    }\n",
       "\n",
       "    .dataframe thead th {\n",
       "        text-align: left;\n",
       "    }\n",
       "\n",
       "    .dataframe tbody tr th {\n",
       "        vertical-align: top;\n",
       "    }\n",
       "</style>\n",
       "<table border=\"1\" class=\"dataframe\">\n",
       "  <thead>\n",
       "    <tr style=\"text-align: right;\">\n",
       "      <th></th>\n",
       "      <th>tripduration</th>\n",
       "      <th>gender</th>\n",
       "    </tr>\n",
       "  </thead>\n",
       "  <tbody>\n",
       "    <tr>\n",
       "      <th>0</th>\n",
       "      <td>340</td>\n",
       "      <td>2</td>\n",
       "    </tr>\n",
       "    <tr>\n",
       "      <th>1</th>\n",
       "      <td>439</td>\n",
       "      <td>1</td>\n",
       "    </tr>\n",
       "    <tr>\n",
       "      <th>2</th>\n",
       "      <td>186</td>\n",
       "      <td>1</td>\n",
       "    </tr>\n",
       "    <tr>\n",
       "      <th>3</th>\n",
       "      <td>442</td>\n",
       "      <td>1</td>\n",
       "    </tr>\n",
       "    <tr>\n",
       "      <th>4</th>\n",
       "      <td>170</td>\n",
       "      <td>1</td>\n",
       "    </tr>\n",
       "  </tbody>\n",
       "</table>\n",
       "</div>"
      ],
      "text/plain": [
       "   tripduration  gender\n",
       "0           340       2\n",
       "1           439       1\n",
       "2           186       1\n",
       "3           442       1\n",
       "4           170       1"
      ]
     },
     "execution_count": 4,
     "metadata": {},
     "output_type": "execute_result"
    }
   ],
   "source": [
    "#Since we are only interested in gender and tripduration, we create a new df, (df_r) that contains only the variables of interest.\n",
    "df_r=df[[ 'tripduration', \"gender\"]]\n",
    "df_r.head()\n"
   ]
  },
  {
   "cell_type": "code",
   "execution_count": 66,
   "metadata": {},
   "outputs": [
    {
     "data": {
      "image/png": "[encoded data removed]",
      "text/plain": [
       "<matplotlib.figure.Figure at 0xc9f8588>"
      ]
     },
     "metadata": {},
     "output_type": "display_data"
    }
   ],
   "source": [
    "#here we do a visualization of the original database \n",
    "df_r.boxplot(column=\"tripduration\",by='gender')\n",
    "\n",
    "xlabel(\"Gender. (0: Unkown, 1: Male; 2: Female)\")\n",
    "ylabel(\"Trip duration (seconds)\")\n",
    "title(\"Boxplot trip Duration by gender\")\n",
    "suptitle(\"\");"
   ]
  },
  {
   "cell_type": "markdown",
   "metadata": {},
   "source": [
    "Figure 1. \n",
    "We can see that there are lot of outliers.\n",
    "We proceed to strip the trip durations greater than 45 minutes."
   ]
  },
  {
   "cell_type": "code",
   "execution_count": 100,
   "metadata": {},
   "outputs": [
    {
     "data": {
      "image/png": "[encoded data removed]",
      "text/plain": [
       "<matplotlib.figure.Figure at 0xcab8a90>"
      ]
     },
     "metadata": {},
     "output_type": "display_data"
    }
   ],
   "source": [
    "#Here we strip the durations greater than 45 minutes\n",
    "#We also remove variables of the \"unkown\" gender (we'll use it later)\n",
    "\n",
    "df_r=df_r[df_r[\"tripduration\"]<=2700] #this removes the times greater than 2700 (45 minutes) \n",
    "df_g=df_r[df_r[\"gender\"]>0] #we create a new data frame with only the values for gender of 1 (male) and 2 (female)\n",
    "\n",
    "df_r.boxplot(column=\"tripduration\",by='gender')\n",
    "xlabel(\"Gender. (0: Unkown, 1: Male; 2: Female)\")\n",
    "ylabel(\"Trip duration (seconds)\")\n",
    "title(\"Boxplot. Trip duration (s) for travel times less than 45 minutes\")\n",
    "suptitle(\"\");\n",
    "savefig('boxplot.png')\n"
   ]
  },
  {
   "cell_type": "markdown",
   "metadata": {},
   "source": [
    "Figure 2. There're still a lot outliers, but at least is visible. We see that females and males have both lots of outliers, but also, that both boxplots are similar, although the females have a slighty greater mean value.\n",
    "The Unkown group, on the other hand, has greater disperson and greater mean value. "
   ]
  },
  {
   "cell_type": "markdown",
   "metadata": {},
   "source": [
    "We'll graph it again removing values over 1000 and only comparing males and females."
   ]
  },
  {
   "cell_type": "code",
   "execution_count": 101,
   "metadata": {},
   "outputs": [
    {
     "data": {
      "image/png": "[encoded data removed]",
      "text/plain": [
       "<matplotlib.figure.Figure at 0xdfc76a0>"
      ]
     },
     "metadata": {},
     "output_type": "display_data"
    }
   ],
   "source": [
    "#Here we strip the durations greater than 45 minutes\n",
    "#We also remove variables of the \"unkown\" gender\n",
    "\n",
    "df_r_r=df_r[df_r[\"tripduration\"]<=1000] #this removes the times greater than 2700 (45 minutes) \n",
    "\n",
    "df_g=df_r_r[df_r_r[\"gender\"]>0] #we create a new data frame with only the values for gender of 1 (male) and 2 (female)\n",
    "\n",
    "df_g.boxplot(column=\"tripduration\",by='gender')\n",
    "xlabel(\"Gender. (1: Male; 2: Female)\")\n",
    "ylabel(\"Trip duration (seconds)\")\n",
    "title(\"Fig 2. Boxplot. Trip duration (s) for travel times less than 1000 seconds\")\n",
    "suptitle(\"\");"
   ]
  },
  {
   "cell_type": "markdown",
   "metadata": {},
   "source": [
    "Figure 3. We are just zooming in in the previous graph. Again, males and females show similar patterns. "
   ]
  },
  {
   "cell_type": "code",
   "execution_count": 67,
   "metadata": {},
   "outputs": [
    {
     "data": {
      "image/png": "[encoded data removed]",
      "text/plain": [
       "<matplotlib.figure.Figure at 0xc6e5278>"
      ]
     },
     "metadata": {},
     "output_type": "display_data"
    }
   ],
   "source": [
    "#We use the histogram as another type of visualization. \n",
    "hist(df_r[df_r[\"gender\"]==1][\"tripduration\"],bins = 20, label = \"Male\", color=\"blue\")\n",
    "hist(df_r[df_r[\"gender\"]==2][\"tripduration\"], bins = 20, label = \"Female\", color=\"pink\")\n",
    "hist(df_r[df_r[\"gender\"]==0][\"tripduration\"], bins = 20, label = \"Unkown\", color=\"grey\")\n",
    "\n",
    "\n",
    "plt.xlabel(\"Trip Duration in seconds\", fontsize=12)\n",
    "plt.ylabel(\"Amount of trips\", fontsize=12)\n",
    "plt.title(\"Fig 3. Histogram. Trip Duration by gender\", fontsize=14)\n",
    "plt.legend(bbox_to_anchor=(1.05, 1), loc=2);"
   ]
  },
  {
   "cell_type": "markdown",
   "metadata": {},
   "source": [
    "Fig 4. Counts of trip duration in both sexes. Note that this are total counts. The graph shows that the distribution is clearly not normal, so we will not be able to use parametric tests. Also, it would be better to normalize the graph. "
   ]
  },
  {
   "cell_type": "code",
   "execution_count": 73,
   "metadata": {},
   "outputs": [
    {
     "name": "stdout",
     "output_type": "stream",
     "text": [
      "The total amount of females rides is tripduration    7035\n",
      "gender          7035\n",
      "dtype: int64\n",
      "The total amount of males rides is tripduration    23094\n",
      "gender          23094\n",
      "dtype: int64\n"
     ]
    }
   ],
   "source": [
    "print \"The total amount of females rides is\",df_r[df_r[\"gender\"]==2].count();\n",
    "print \"The total amount of males rides is\",(df_r[df_r[\"gender\"]==1]).count();"
   ]
  },
  {
   "cell_type": "code",
   "execution_count": 10,
   "metadata": {
    "collapsed": true
   },
   "outputs": [],
   "source": [
    "#we create new data frames with only the trip duration for each gender to visualize the descriptive statistics for each gender.\n",
    "mal=df_r[df_r[\"gender\"]==1][\"tripduration\"]\n",
    "fem=df_r[df_r[\"gender\"]==2][\"tripduration\"]"
   ]
  },
  {
   "cell_type": "code",
   "execution_count": 86,
   "metadata": {},
   "outputs": [
    {
     "name": "stdout",
     "output_type": "stream",
     "text": [
      "Males statistics\n",
      "count    23094.000000\n",
      "mean       496.889798\n",
      "std        426.032647\n",
      "min         62.000000\n",
      "25%        235.000000\n",
      "50%        352.000000\n",
      "75%        593.000000\n",
      "max       2697.000000\n",
      "Name: tripduration, dtype: float64\n",
      "\n",
      "Females statistics\n",
      "count    7035.000000\n",
      "mean      532.130348\n",
      "std       434.418021\n",
      "min        61.000000\n",
      "25%       262.000000\n",
      "50%       388.000000\n",
      "75%       634.500000\n",
      "max      2695.000000\n",
      "Name: tripduration, dtype: float64\n"
     ]
    }
   ],
   "source": [
    "print \"Males statistics\"\n",
    "print mal.describe()\n",
    "print\n",
    "print \"Females statistics\"\n",
    "print fem.describe()"
   ]
  },
  {
   "cell_type": "code",
   "execution_count": 74,
   "metadata": {},
   "outputs": [
    {
     "data": {
      "text/plain": [
       "<matplotlib.legend.Legend at 0xe01a780>"
      ]
     },
     "execution_count": 74,
     "metadata": {},
     "output_type": "execute_result"
    },
    {
     "data": {
      "image/png": "[encoded data removed]",
      "text/plain": [
       "<matplotlib.figure.Figure at 0xe01ada0>"
      ]
     },
     "metadata": {},
     "output_type": "display_data"
    }
   ],
   "source": [
    "hist(mal, bins = 20, label = \"Male\", normed=1, alpha=0.3)\n",
    "hist(fem, bins = 20, color=\"red\", label = \"Female\", normed = 1, alpha=0.3)\n",
    "#hist(df_r[df_r[\"gender\"]==0][\"tripduration\"], bins = 20, color=\"green\", label = \"Unknown\", normed = 1, alpha=0.3)\n",
    "\n",
    "plt.xlabel(\"Trip Duration in seconds\", fontsize=12)\n",
    "plt.ylabel(\"Amount of trips\", fontsize=12)\n",
    "plt.title(\"Trip Duration Histogram normalized\", weight='bold', fontsize=14)\n",
    "plt.legend(bbox_to_anchor=(1.05, 1), loc=2, borderaxespad=0.)"
   ]
  },
  {
   "cell_type": "markdown",
   "metadata": {},
   "source": [
    "Fig 5. Normalized counts for female and males. Here the pattern is more similar to what was evidenced in the boxplot. The two sexes show a similar distribution, but males have a greater number of short trips."
   ]
  },
  {
   "cell_type": "markdown",
   "metadata": {},
   "source": [
    "### Statistical Analysis\n",
    "We will proceed to test statistical difference between both groups. As mentioned before, we will have to use non-parametric tests.\n",
    "\n",
    "Suggested by the reviewer we will use Kruskall Wallis and Moods Median test"
   ]
  },
  {
   "cell_type": "code",
   "execution_count": 77,
   "metadata": {},
   "outputs": [
    {
     "data": {
      "text/plain": [
       "KruskalResult(statistic=103.39925079189837, pvalue=2.7397831118334302e-24)"
      ]
     },
     "execution_count": 77,
     "metadata": {},
     "output_type": "execute_result"
    }
   ],
   "source": [
    "#Kruskall Wallis for two samples\n",
    "stats.kruskal(mal,fem)"
   ]
  },
  {
   "cell_type": "markdown",
   "metadata": {},
   "source": [
    "The Null Hypothesys that they both come from the same parent distribution is rejected."
   ]
  },
  {
   "cell_type": "code",
   "execution_count": 82,
   "metadata": {},
   "outputs": [
    {
     "name": "stdout",
     "output_type": "stream",
     "text": [
      "The p-value for the median difference is 7.70619780474e-16 ,rejecting the null hypothesis that the two samples come from populations with same median\n"
     ]
    }
   ],
   "source": [
    "#Mood's median\n",
    "stat, p, med, tbl = median_test(mal, fem)\n",
    "print \"The p-value for the median difference is\",p,\",rejecting the null hypothesis that the two samples come from populations with same median\""
   ]
  },
  {
   "cell_type": "markdown",
   "metadata": {},
   "source": [
    "Both tests reject the Null Hypothesis. However, in the graph we see that both means are very similar.\n",
    "\n",
    "Let's try another approach, since this tests are sensible to the size of the samples. \n",
    "We'll create samples of 100 for males and females and repeat the KW test 1000 times and then average the p-value.\n",
    "Then we'll repeat that for samples of size 1000. Maybe is not a valid way to do an statistical analysis, but is a way to look how the size of the sample is influencing the p-value."
   ]
  },
  {
   "cell_type": "code",
   "execution_count": 11,
   "metadata": {
    "collapsed": true
   },
   "outputs": [],
   "source": [
    "#setting seed for reproducibiliy\n",
    "np.random.seed(9)\n",
    "\n",
    "#creating empty data frame to store the p values\n",
    "pv_100=np.zeros((1000))\n",
    "\n",
    "#loop for KW test\n",
    "for i in range (0,1000):\n",
    "    pv_u=stats.kruskal(mal.sample(100),fem.sample(100))[1]\n",
    "    pv_100[i]=pv_u"
   ]
  },
  {
   "cell_type": "code",
   "execution_count": 89,
   "metadata": {
    "collapsed": true
   },
   "outputs": [],
   "source": [
    "#setting seed for reproducibiliy\n",
    "np.random.seed(9)\n",
    "\n",
    "#creating empty data frame to store the p values\n",
    "pv_1000=np.zeros((1000))\n",
    "\n",
    "#loop for KW test\n",
    "for i in range (0,1000):\n",
    "    pv_u=stats.kruskal(mal.sample(1000),fem.sample(1000))[1]\n",
    "    pv_1000[i]=pv_u"
   ]
  },
  {
   "cell_type": "code",
   "execution_count": 90,
   "metadata": {
    "scrolled": true
   },
   "outputs": [
    {
     "name": "stdout",
     "output_type": "stream",
     "text": [
      "The mean p value for 1000 samples of 100 females and males each is 0.364014779899\n",
      "The mean p value for 1000 samples of 1000 females and males each is 0.025258734778\n"
     ]
    }
   ],
   "source": [
    "print \"The mean p value for 1000 samples of 100 females and males each is\",pv_100.mean()\n",
    "print \"The mean p value for 1000 samples of 1000 females and males each is\",pv_1000.mean()"
   ]
  },
  {
   "cell_type": "markdown",
   "metadata": {},
   "source": [
    "Note that the p value gets smaller with bigger samples and there is no statisicall difference for samples sizes of 100.\n",
    "This a less elegant way to try to assess how meaninful is the difference between groups.\n",
    "The statisticall difference although it exists, is due to the large size of the samples being compared making the p-value smaller. \n"
   ]
  },
  {
   "cell_type": "markdown",
   "metadata": {},
   "source": [
    "This was done including outliers. \n",
    "We can repeat this process removing the values that are too extreme (after observing the boxplot).\n",
    "In this case, we are not going to consider values over 5000 seconds"
   ]
  },
  {
   "cell_type": "code",
   "execution_count": 98,
   "metadata": {},
   "outputs": [
    {
     "data": {
      "text/plain": [
       "KruskalResult(statistic=103.39925079189837, pvalue=2.7397831118334302e-24)"
      ]
     },
     "execution_count": 98,
     "metadata": {},
     "output_type": "execute_result"
    }
   ],
   "source": [
    "#Kruskall Wallis for two samples\n",
    "stats.kruskal(mal[mal<5000], fem[fem<5000])"
   ]
  },
  {
   "cell_type": "code",
   "execution_count": 99,
   "metadata": {},
   "outputs": [
    {
     "name": "stdout",
     "output_type": "stream",
     "text": [
      "The p-value for the median difference is 7.70619780474e-16 ,rejecting the null hypothesis that the two samples come from populations with same median\n"
     ]
    }
   ],
   "source": [
    "#Mood test\n",
    "stat, p, med, tbl = median_test(mal[mal<5000], fem[fem<5000])\n",
    "print \"The p-value for the median difference is\",p,\",rejecting the null hypothesis that the two samples come from populations with same median\""
   ]
  },
  {
   "cell_type": "markdown",
   "metadata": {},
   "source": [
    "We arrive to the same conclusion. This is just to check that the difference between groups is not due to extreme values. "
   ]
  },
  {
   "cell_type": "markdown",
   "metadata": {},
   "source": [
    "Conclusion.\n",
    "Although we rejected the Null Hypothesis that both sexes had the same tripduration, the difference (45 seconds aproximately) is not meaningful to elicit some further analysis.\n",
    "What is interesting to note, is the difference in users, males perform aproximately 3 times more trips than females.\n",
    "\n",
    "Also, as a side note, is how the statisticall tests offer little insight here. Although the difference is in fact significant, the effect size is not relevant, although this is invisible to the statisticall tests. "
   ]
  }
 ],
 "metadata": {
  "kernelspec": {
   "display_name": "Python 2",
   "language": "python",
   "name": "python2"
  },
  "language_info": {
   "codemirror_mode": {
    "name": "ipython",
    "version": 2
   },
   "file_extension": ".py",
   "mimetype": "text/x-python",
   "name": "python",
   "nbconvert_exporter": "python",
   "pygments_lexer": "ipython2",
   "version": "2.7.13"
  }
 },
 "nbformat": 4,
 "nbformat_minor": 1
}
