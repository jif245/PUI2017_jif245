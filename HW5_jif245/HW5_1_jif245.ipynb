{
 "cells": [
  {
   "cell_type": "code",
   "execution_count": 1,
   "metadata": {
    "collapsed": false
   },
   "outputs": [
    {
     "name": "stdout",
     "output_type": "stream",
     "text": [
      "Populating the interactive namespace from numpy and matplotlib\n"
     ]
    }
   ],
   "source": [
    "import numpy as np\n",
    "import pylab as pl\n",
    "import scipy as sp\n",
    "from scipy import stats\n",
    "from scipy.stats import poisson as poisson1 #there maybe a clash of packacges depending on the kernel used, \n",
    "#so I import poisson function with another name\n",
    "\n",
    "%pylab inline"
   ]
  },
  {
   "cell_type": "markdown",
   "metadata": {},
   "source": [
    "#### Assignment 1: Test the Z test:\n",
    "\n",
    "(all simulated data)\n",
    "\n",
    "1. Generate N samples from a distribution of your choice, but not a Gaussian with a chosen mean μ and standard deviation σ: N(μ, σ) and calculate the mean of each sample (all samples should have the same size n).\n",
    "\n",
    "2. Assess the validity of the Z-test: If the samples are drawn from the distribution you are testing the z-values you calculate should follow a N(0,1) distribution (a Gaussian with mean 0 and standard deviation 1). Show that the distribution of z -statistics (find the formula in a statistics book or in last week’s slides) that you calculated (one for each sample) is indeed consistent with N(0,1).\n",
    "\n",
    "Grading:\n",
    "\n",
    "you must:\n",
    "\n",
    "a. plot your original distribution\n",
    "\n",
    "b. plot at least one of the samples\n",
    "\n",
    "c. plot the distribution of z statistics\n",
    "\n",
    "d. fit the z-statistics with a gaussian model and assess the goodness of fit with a simple test (AD or KS).\n",
    "\n",
    "e. find the best fit values for the model parameters (mean and standard deviation) by minimizing the model chi square.\n",
    "\n",
    "f. plots need have caption, axis labels, etx and comment your figures and test results appropriately (to demonstrate your understanding)."
   ]
  },
  {
   "cell_type": "code",
   "execution_count": 2,
   "metadata": {
    "collapsed": true,
    "scrolled": true
   },
   "outputs": [],
   "source": [
    "#For reproducible research\n",
    "np.random.seed(88)\n",
    "\n",
    "#setting lambda, size and iterations\n",
    "mylambda=69\n",
    "size=1000\n",
    "iterations=1000\n",
    "\n",
    "#creating a dataframe of 0 to fill in iterations\n",
    "m_media=np.zeros(iterations)\n",
    "\n",
    "#creating a dataframe of means\n",
    "for i in range(iterations):\n",
    "    sample=(np.random.poisson(mylambda,size))\n",
    "    m_media[i]=sample.mean()\n",
    "\n",
    "    \n",
    "    "
   ]
  },
  {
   "cell_type": "code",
   "execution_count": 3,
   "metadata": {
    "collapsed": false,
    "scrolled": true
   },
   "outputs": [
    {
     "data": {
      "image/png": "[encoded data removed]",
      "text/plain": [
       "<matplotlib.figure.Figure at 0x7fe5e331c610>"
      ]
     },
     "metadata": {},
     "output_type": "display_data"
    }
   ],
   "source": [
    "#Creating an idealized distribution of a poisson with 69 lambda\n",
    "\n",
    "fig, ax = plt.subplots(1, 1)\n",
    "mu=69\n",
    "\n",
    "x = np.arange(poisson1.ppf(0.01, mu),\n",
    "              poisson1.ppf(0.99, mu))\n",
    "ax.plot(x, poisson1.pmf(x, mu), 'bo', color=\"black\",ms=8, label='poisson pmf')\n",
    "ax.vlines(x, 0, poisson1.pmf(x, mu), colors='black', lw=5, alpha=0.5);"
   ]
  },
  {
   "cell_type": "markdown",
   "metadata": {},
   "source": [
    "**Figure 0.** Idealized Poisson Distribution with lambda=69"
   ]
  },
  {
   "cell_type": "code",
   "execution_count": 4,
   "metadata": {
    "collapsed": false,
    "scrolled": true
   },
   "outputs": [
    {
     "data": {
      "image/png": "[encoded data removed]",
      "text/plain": [
       "<matplotlib.figure.Figure at 0x7fe5e11587d0>"
      ]
     },
     "metadata": {},
     "output_type": "display_data"
    }
   ],
   "source": [
    "#Creating plot of ONE poisson sample\n",
    "pl.hist(np.random.poisson(mylambda,size), bins=20)\n",
    "pl.title(\"One Sample Poisson Distribution\")\n",
    "pl.xlabel(\"Counts in Poisson Distribution\")\n",
    "pl.ylabel(\"Frequency\");"
   ]
  },
  {
   "cell_type": "markdown",
   "metadata": {},
   "source": [
    "**Figure 1.** This is ONE Poisson sample distribution with Lambda=69 and N=1000"
   ]
  },
  {
   "cell_type": "code",
   "execution_count": 5,
   "metadata": {
    "collapsed": false,
    "scrolled": false
   },
   "outputs": [
    {
     "data": {
      "image/png": "[encoded data removed]",
      "text/plain": [
       "<matplotlib.figure.Figure at 0x7fe5e1207f50>"
      ]
     },
     "metadata": {},
     "output_type": "display_data"
    }
   ],
   "source": [
    "#Creating plot of means\n",
    "pl.hist(m_media, color=\"pink\")\n",
    "pl.title(\"Distribution of means of Poisson Distribution\")\n",
    "pl.xlabel(\"Means\")\n",
    "pl.ylabel(\"Frequency\");"
   ]
  },
  {
   "cell_type": "markdown",
   "metadata": {},
   "source": [
    "**Figure 2.** This is the distribution of means for 1000 Poisson Distribution"
   ]
  },
  {
   "cell_type": "code",
   "execution_count": 6,
   "metadata": {
    "collapsed": true,
    "scrolled": true
   },
   "outputs": [],
   "source": [
    "#calculating z distribution for all the means\n",
    "z_dist=(mylambda - m_media) * np.sqrt(size)/np.sqrt(mylambda)\n"
   ]
  },
  {
   "cell_type": "code",
   "execution_count": 7,
   "metadata": {
    "collapsed": false
   },
   "outputs": [
    {
     "data": {
      "image/png": "[encoded data removed]",
      "text/plain": [
       "<matplotlib.figure.Figure at 0x7fe5e10a21d0>"
      ]
     },
     "metadata": {},
     "output_type": "display_data"
    }
   ],
   "source": [
    "#Creating plot of z-score and gaussian distribution\n",
    "pl.hist(z_dist,  alpha=0.8,label=\"Poisson\",color=\"red\")\n",
    "pl.hist(np.random.normal(0,1,size), color=\"green\", alpha=0.3,label=\"Gaussian\")\n",
    "pl.title(\"Distribution of z scores\")\n",
    "pl.legend()\n",
    "pl.xlabel(\"z scores\")\n",
    "pl.ylabel(\"Frequency\");"
   ]
  },
  {
   "cell_type": "markdown",
   "metadata": {},
   "source": [
    "**Figure 3.** This is the distribution of z scores for 1000 means for Poisson Distribution."
   ]
  },
  {
   "cell_type": "markdown",
   "metadata": {},
   "source": [
    "### The following statistical tests will be assessed with an $\\alpha\\ $of 0.5"
   ]
  },
  {
   "cell_type": "code",
   "execution_count": 8,
   "metadata": {
    "collapsed": false,
    "scrolled": true
   },
   "outputs": [
    {
     "data": {
      "text/plain": [
       "KstestResult(statistic=0.021023804912636557, pvalue=0.7686941804443933)"
      ]
     },
     "execution_count": 8,
     "metadata": {},
     "output_type": "execute_result"
    }
   ],
   "source": [
    "#KS statistic\n",
    "sp.stats.kstest(z_dist,\"norm\")"
   ]
  },
  {
   "cell_type": "code",
   "execution_count": 9,
   "metadata": {
    "collapsed": false
   },
   "outputs": [
    {
     "data": {
      "text/plain": [
       "AndersonResult(statistic=0.16989591193168962, critical_values=array([ 0.574,  0.653,  0.784,  0.914,  1.088]), significance_level=array([ 15. ,  10. ,   5. ,   2.5,   1. ]))"
      ]
     },
     "execution_count": 9,
     "metadata": {},
     "output_type": "execute_result"
    }
   ],
   "source": [
    "#Anderson statistic\n",
    "sp.stats.anderson(z_dist,\"norm\")"
   ]
  },
  {
   "cell_type": "markdown",
   "metadata": {},
   "source": [
    "#### Interpretation\n",
    "\n",
    "Both the KS test and Anderson Test were not significant: \n",
    "The pvalue of the KS test is over the critical value of 0.5.\n",
    "\n",
    "The statistic for anderson is below the critical value of 0.784 (corresponding to a 0.5. significance).\n",
    "\n",
    "What this test are assessing are if the two distributions in question (normal and poisson z scores) come from the same parent distribution. The Null Hypothesys that they come from the same parent distribution is not rejected, so, they we can assume that the z-score has a normal distribution with mean 0 and standard deviation of 1."
   ]
  }
 ],
 "metadata": {
  "kernelspec": {
   "display_name": "Python 2",
   "language": "python",
   "name": "python2"
  },
  "language_info": {
   "codemirror_mode": {
    "name": "ipython",
    "version": 2
   },
   "file_extension": ".py",
   "mimetype": "text/x-python",
   "name": "python",
   "nbconvert_exporter": "python",
   "pygments_lexer": "ipython2",
   "version": "2.7.11"
  }
 },
 "nbformat": 4,
 "nbformat_minor": 2
}
